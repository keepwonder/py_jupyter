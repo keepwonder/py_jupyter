{
 "cells": [
  {
   "cell_type": "markdown",
   "metadata": {},
   "source": [
    "# 4. More Control Flow Tools"
   ]
  },
  {
   "cell_type": "code",
   "execution_count": null,
   "metadata": {
    "collapsed": true
   },
   "outputs": [],
   "source": [
    "'''\n",
    "Besides the while statement just introduced, \n",
    "Python knows the usual control flow statements known from other languages, with some twists.\n",
    "'''"
   ]
  },
  {
   "cell_type": "markdown",
   "metadata": {},
   "source": [
    "## 4.1. `if` Statements"
   ]
  },
  {
   "cell_type": "code",
   "execution_count": null,
   "metadata": {
    "collapsed": false
   },
   "outputs": [],
   "source": [
    "'''\n",
    "Perhaps the most well-known statement type is the if statement. For example:\n",
    "'''"
   ]
  },
  {
   "cell_type": "code",
   "execution_count": null,
   "metadata": {
    "collapsed": false
   },
   "outputs": [],
   "source": [
    "x = int(input('Please enter a num:'))"
   ]
  },
  {
   "cell_type": "code",
   "execution_count": null,
   "metadata": {
    "collapsed": false
   },
   "outputs": [],
   "source": [
    "if x < 0:\n",
    "    x = 0\n",
    "    print('Negtive changed to zero')\n",
    "elif x == 0:\n",
    "    print('Zero')\n",
    "elif x == 1:\n",
    "    print('Single')\n",
    "else:\n",
    "    print('More')"
   ]
  },
  {
   "cell_type": "code",
   "execution_count": null,
   "metadata": {
    "collapsed": true
   },
   "outputs": [],
   "source": [
    "'''\n",
    "There can be zero or more elif parts, and the else part is optional. \n",
    "The keyword ‘elif’ is short for ‘else if’, and is useful to avoid excessive indentation. \n",
    "An if … elif … elif … sequence is a substitute for the switch or case statements found in other languages.\n",
    "'''"
   ]
  },
  {
   "cell_type": "markdown",
   "metadata": {},
   "source": [
    "## 4.2. `for` Statements"
   ]
  },
  {
   "cell_type": "code",
   "execution_count": null,
   "metadata": {
    "collapsed": true
   },
   "outputs": [],
   "source": [
    "'''\n",
    "The for statement in Python differs a bit from what you may be used to in C or Pascal. \n",
    "Rather than always iterating over an arithmetic progression of numbers (like in Pascal), \n",
    "or giving the user the ability to define both the iteration step and halting condition (as C), \n",
    "Python’s for statement iterates over the items of any sequence (a list or a string), \n",
    "in the order that they appear in the sequence. For example (no pun intended):\n",
    "'''"
   ]
  },
  {
   "cell_type": "code",
   "execution_count": null,
   "metadata": {
    "collapsed": false
   },
   "outputs": [],
   "source": [
    "words = ['cat', 'window', 'defenestrate']\n",
    "for w in words:\n",
    "    print(w, len(w))"
   ]
  },
  {
   "cell_type": "code",
   "execution_count": null,
   "metadata": {
    "collapsed": true
   },
   "outputs": [],
   "source": [
    "'''\n",
    "If you need to modify the sequence you are iterating over while inside the loop \n",
    "(for example to duplicate selected items), it is recommended that you first make a copy. \n",
    "Iterating over a sequence does not implicitly make a copy. The slice notation makes this especially convenient:\n",
    "'''"
   ]
  },
  {
   "cell_type": "code",
   "execution_count": null,
   "metadata": {
    "collapsed": false
   },
   "outputs": [],
   "source": [
    "for w in words[:]:  # Loop over a slice copy of the entire list.\n",
    "    print('outer:',words)\n",
    "    if len(w) > 6:\n",
    "        words.insert(0, w)\n",
    "        print('innder:', words)"
   ]
  },
  {
   "cell_type": "code",
   "execution_count": null,
   "metadata": {
    "collapsed": false
   },
   "outputs": [],
   "source": [
    "words"
   ]
  },
  {
   "cell_type": "code",
   "execution_count": null,
   "metadata": {
    "collapsed": false
   },
   "outputs": [],
   "source": [
    "'''\n",
    "With for w in words:, the example would attempt to create an infinite list, inserting defenestrate over and over again.\n",
    "'''\n",
    "\n",
    "index = 1\n",
    "for w in words: \n",
    "    if index > 10:\n",
    "        break # 循环10次终止，不然会无限死循环下去   \n",
    "    print('outer[%d]: %s'% (index, words))      \n",
    "    if len(w) > 6:\n",
    "        words.insert(0, w)\n",
    "        print('inner[%d]: %s'% (index, words))     \n",
    "    index += 1"
   ]
  },
  {
   "cell_type": "markdown",
   "metadata": {},
   "source": [
    "## 4.3. The `range()` Function"
   ]
  },
  {
   "cell_type": "code",
   "execution_count": null,
   "metadata": {
    "collapsed": false
   },
   "outputs": [],
   "source": [
    "'''\n",
    "If you do need to iterate over a sequence of numbers, the built-in function range() comes in handy. \n",
    "It generates arithmetic progressions:\n",
    "'''\n",
    "\n",
    "for i in range(5):\n",
    "    print(i)"
   ]
  },
  {
   "cell_type": "code",
   "execution_count": null,
   "metadata": {
    "collapsed": true
   },
   "outputs": [],
   "source": [
    "'''\n",
    "The given end point is never part of the generated sequence; \n",
    "range(10) generates 10 values, the legal indices for items of a sequence of length 10. \n",
    "It is possible to let the range start at another number, or to specify a different increment (even negative; \n",
    "sometimes this is called the ‘step’):\n",
    "'''\n",
    "\n",
    "range(5, 10)\n",
    "#   5 through 9\n",
    "\n",
    "range(0, 10, 3)\n",
    "#   0, 3, 6, 9\n",
    "\n",
    "range(-10, -100, -30)\n",
    "#  -10, -40, -70"
   ]
  },
  {
   "cell_type": "code",
   "execution_count": null,
   "metadata": {
    "collapsed": false
   },
   "outputs": [],
   "source": [
    "'''\n",
    "To iterate over the indices of a sequence, you can combine range() and len() as follows:\n",
    "'''\n",
    "\n",
    "a = ['Mary', 'had', 'a', 'little', 'lamb']\n",
    "for i in range(len(a)):\n",
    "    print(i, a[i])"
   ]
  },
  {
   "cell_type": "code",
   "execution_count": null,
   "metadata": {
    "collapsed": false
   },
   "outputs": [],
   "source": [
    "'''\n",
    "In most such cases, however, it is convenient to use the enumerate() function\n",
    "'''\n",
    "\n",
    "for i, name in enumerate(a):\n",
    "    print(i, name)"
   ]
  },
  {
   "cell_type": "code",
   "execution_count": null,
   "metadata": {
    "collapsed": false
   },
   "outputs": [],
   "source": [
    "'''A strange thing happens if you just print a range:'''\n",
    "print(range(10))"
   ]
  },
  {
   "cell_type": "code",
   "execution_count": null,
   "metadata": {
    "collapsed": false
   },
   "outputs": [],
   "source": [
    "'''\n",
    "In many ways the object returned by range() behaves as if it is a list, but in fact it isn’t. \n",
    "It is an object which returns the successive items of the desired sequence when you iterate over it, \n",
    "but it doesn’t really make the list, thus saving space.\n",
    "\n",
    "We say such an object is iterable, that is, suitable as a target for functions \n",
    "and constructs that expect something from which they can obtain successive items until the supply is exhausted. \n",
    "We have seen that the for statement is such an iterator. The function list() is another; \n",
    "it creates lists from iterables:\n",
    "'''\n",
    "\n",
    "list(range(5))"
   ]
  },
  {
   "cell_type": "markdown",
   "metadata": {},
   "source": [
    "## 4.4. `break` and `continue` Statements, and `else` Clauses on Loops"
   ]
  },
  {
   "cell_type": "code",
   "execution_count": null,
   "metadata": {
    "collapsed": true
   },
   "outputs": [],
   "source": [
    "'''\n",
    "The break statement, like in C, breaks out of the innermost enclosing for or while loop.\n",
    "\n",
    "Loop statements may have an else clause; \n",
    "it is executed when the loop terminates through exhaustion of the list (with for) \n",
    "or when the condition becomes false (with while), but not when the loop is terminated by a break statement. \n",
    "This is exemplified by the following loop, which searches for prime numbers:\n",
    "'''"
   ]
  },
  {
   "cell_type": "code",
   "execution_count": null,
   "metadata": {
    "collapsed": false
   },
   "outputs": [],
   "source": [
    "for n in range(2, 10):\n",
    "    for x in range(2, n):\n",
    "        if n % x == 0:\n",
    "            print('{} equals {} * {}'.format(n, x, n//x))\n",
    "            break\n",
    "    else:\n",
    "        print('{} is a prime number'.format(n))\n",
    "            "
   ]
  },
  {
   "cell_type": "code",
   "execution_count": null,
   "metadata": {
    "collapsed": true
   },
   "outputs": [],
   "source": [
    "'''\n",
    "(Yes, this is the correct code. Look closely: the else clause belongs to the for loop, not the if statement.)\n",
    "\n",
    "When used with a loop, the else clause has more in common with the else clause of a try statement \n",
    "than it does that of if statements: a try statement’s else clause runs when no exception occurs, \n",
    "and a loop’s else clause runs when no break occurs. For more on the try statement and exceptions, \n",
    "see Handling Exceptions.\n",
    "\n",
    "The continue statement, also borrowed from C, continues with the next iteration of the loop:\n",
    "'''"
   ]
  },
  {
   "cell_type": "code",
   "execution_count": null,
   "metadata": {
    "collapsed": false
   },
   "outputs": [],
   "source": [
    "for n in range(2, 10):\n",
    "    if n % 2 == 0:\n",
    "        print('found an even number: ',n)\n",
    "        continue\n",
    "#     way1\n",
    "    print('Found a number: ',n)\n",
    "#     way2\n",
    "#     else:\n",
    "#         print('found a number: ',n)"
   ]
  },
  {
   "cell_type": "markdown",
   "metadata": {},
   "source": [
    "## 4.5. `pass` Statements"
   ]
  },
  {
   "cell_type": "code",
   "execution_count": null,
   "metadata": {
    "collapsed": true
   },
   "outputs": [],
   "source": [
    "'''\n",
    "The pass statement does nothing. \n",
    "It can be used when a statement is required syntactically but the program requires no action. For example:\n",
    "'''"
   ]
  },
  {
   "cell_type": "code",
   "execution_count": null,
   "metadata": {
    "collapsed": false
   },
   "outputs": [],
   "source": [
    "while True:\n",
    "    pass"
   ]
  },
  {
   "cell_type": "code",
   "execution_count": null,
   "metadata": {
    "collapsed": true
   },
   "outputs": [],
   "source": [
    "'''This is commonly used for creating minimal classes:'''\n",
    "class myEmptyClass:\n",
    "    pass"
   ]
  },
  {
   "cell_type": "code",
   "execution_count": null,
   "metadata": {
    "collapsed": true
   },
   "outputs": [],
   "source": [
    "'''\n",
    "Another place pass can be used is as a place-holder for a function \n",
    "or conditional body when you are working on new code, allowing you to keep thinking at a more abstract level.\n",
    "The pass is silently ignored:\n",
    "'''\n",
    "\n",
    "def initlog(*args):\n",
    "    pass   # Remember to implement this!"
   ]
  },
  {
   "cell_type": "markdown",
   "metadata": {},
   "source": [
    "## 4.6. Defining Functions"
   ]
  },
  {
   "cell_type": "code",
   "execution_count": null,
   "metadata": {
    "collapsed": true
   },
   "outputs": [],
   "source": [
    "'''\n",
    "We can create a function that writes the Fibonacci series to an arbitrary boundary:\n",
    "'''"
   ]
  },
  {
   "cell_type": "markdown",
   "metadata": {},
   "source": [
    "## 4.7. More on Defining Functions"
   ]
  },
  {
   "cell_type": "code",
   "execution_count": null,
   "metadata": {
    "collapsed": true
   },
   "outputs": [],
   "source": [
    "'''\n",
    "It is also possible to define functions with a variable number of arguments. \n",
    "There are three forms, which can be combined.\n",
    "\n",
    "'''"
   ]
  },
  {
   "cell_type": "markdown",
   "metadata": {},
   "source": [
    "### 4.7.1. Default Argument Values"
   ]
  },
  {
   "cell_type": "markdown",
   "metadata": {},
   "source": [
    "### 4.7.2. Keyword Arguments"
   ]
  },
  {
   "cell_type": "markdown",
   "metadata": {},
   "source": [
    "### 4.7.3. Arbitrary Argument Lists"
   ]
  },
  {
   "cell_type": "markdown",
   "metadata": {},
   "source": [
    "### 4.7.4. Unpacking Argument Lists"
   ]
  },
  {
   "cell_type": "markdown",
   "metadata": {},
   "source": [
    "### 4.7.5. Lambda Expressions"
   ]
  },
  {
   "cell_type": "markdown",
   "metadata": {},
   "source": [
    "### 4.7.6. Documentation Strings"
   ]
  },
  {
   "cell_type": "markdown",
   "metadata": {},
   "source": [
    "### 4.7.7. Function Annotations"
   ]
  },
  {
   "cell_type": "markdown",
   "metadata": {},
   "source": [
    "### 4.8. Intermezzo: Coding Style"
   ]
  },
  {
   "cell_type": "code",
   "execution_count": null,
   "metadata": {
    "collapsed": true
   },
   "outputs": [],
   "source": []
  }
 ],
 "metadata": {
  "kernelspec": {
   "display_name": "Python 3",
   "language": "python",
   "name": "python3"
  },
  "language_info": {
   "codemirror_mode": {
    "name": "ipython",
    "version": 3
   },
   "file_extension": ".py",
   "mimetype": "text/x-python",
   "name": "python",
   "nbconvert_exporter": "python",
   "pygments_lexer": "ipython3",
   "version": "3.6.0"
  }
 },
 "nbformat": 4,
 "nbformat_minor": 2
}
