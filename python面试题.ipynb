{
 "cells": [
  {
   "cell_type": "markdown",
   "metadata": {},
   "source": [
    "# python面试题"
   ]
  },
  {
   "cell_type": "markdown",
   "metadata": {},
   "source": [
    "### 1. 对缺省参数的理解，给出代码"
   ]
  },
  {
   "cell_type": "code",
   "execution_count": null,
   "metadata": {
    "collapsed": false
   },
   "outputs": [],
   "source": [
    "def extend_list(val, lst=[]):\n",
    "    lst.append(val)\n",
    "    return lst\n",
    "\n",
    "list1 = extend_list(10)\n",
    "print('list1:',list1)\n",
    "list2 = extend_list(20, [])\n",
    "print('list2:', list2)\n",
    "list3 = extend_list('a')\n",
    "print('list3:',list3)\n",
    "print('list1:',list1)"
   ]
  },
  {
   "cell_type": "code",
   "execution_count": null,
   "metadata": {
    "collapsed": false
   },
   "outputs": [],
   "source": [
    "def extend_list(val, lst=None):\n",
    "    if lst == None:\n",
    "        lst = []\n",
    "    lst.append(val)\n",
    "    return lst\n",
    "\n",
    "list1 = extend_list(10)\n",
    "print('list1:',list1)\n",
    "list2 = extend_list(20, [])\n",
    "print('list2:', list2)\n",
    "list3 = extend_list('a')\n",
    "print('list3:',list3)\n",
    "print('list1:',list1)"
   ]
  },
  {
   "cell_type": "markdown",
   "metadata": {},
   "source": [
    "### 2. 遍历一个文件夹内所有的子文件夹及子文件，并按树状打印出来，每个层级用 4 个空格缩进"
   ]
  },
  {
   "cell_type": "code",
   "execution_count": null,
   "metadata": {
    "collapsed": false
   },
   "outputs": [],
   "source": [
    "import os\n",
    "\n",
    "print(os.listdir()) # 列出当前目录的文件和我文件夹\n"
   ]
  },
  {
   "cell_type": "markdown",
   "metadata": {},
   "source": [
    "### 3.  python函数传参机制"
   ]
  },
  {
   "cell_type": "code",
   "execution_count": null,
   "metadata": {
    "collapsed": true
   },
   "outputs": [],
   "source": [
    "python函数传的都是引用，如果对象可变，则传的是引用，如果对象不可变，相当于传值。 数字、字符串、元组不可变，列表、字典可变"
   ]
  },
  {
   "cell_type": "markdown",
   "metadata": {},
   "source": [
    "### 4. 请写出一段Python代码实现删除一个list里面的重复元素"
   ]
  },
  {
   "cell_type": "code",
   "execution_count": null,
   "metadata": {
    "collapsed": false
   },
   "outputs": [],
   "source": [
    "lst = [1, 3, 3, 2, 6, 2, 43, 5, 53, 4, 53, 3]\n",
    "# 1.使用set函数\n",
    "print(list(set(lst))) \n",
    "# print(lst)\n",
    "\n",
    "# 2.使用字典函数\n",
    "d = {}\n",
    "d = d.fromkeys(lst)\n",
    "print(list(d.keys()))\n",
    "\n",
    "# 3.使用循环判断\n",
    "l = []\n",
    "for val in lst:\n",
    "    if val in l:\n",
    "        continue\n",
    "    l.append(val)\n",
    "print(l)\n",
    "    "
   ]
  },
  {
   "cell_type": "markdown",
   "metadata": {},
   "source": [
    "### 5. Python里面如何生成随机数？"
   ]
  },
  {
   "cell_type": "code",
   "execution_count": null,
   "metadata": {
    "collapsed": false
   },
   "outputs": [],
   "source": [
    "# random模块\n",
    "import random\n",
    "# 0-1之间的随机浮点数\n",
    "print(random.random())\n",
    "# [a,b]之间的随机整数，包括a,b\n",
    "print(random.randint(10,20))\n",
    "# random.randrange(start,stop,[,step])：返回一个范围在(start,stop,step)之间的随机整数，不包括结束值。\n",
    "print(random.randrange(10))\n",
    "print(random.randrange(10,20))\n",
    "print(random.randrange(10,20,2))"
   ]
  },
  {
   "cell_type": "markdown",
   "metadata": {},
   "source": [
    "### 6. 给定一个路径，请遍历输出：\n"
   ]
  },
  {
   "cell_type": "code",
   "execution_count": null,
   "metadata": {
    "collapsed": false
   },
   "outputs": [],
   "source": [
    "import os\n",
    "\n",
    "def print_directory_content(sPath):\n",
    "    for sChild in os.listdir(sPath):\n",
    "        sChildPath = os.path.join(sPath, sChild)\n",
    "        if os.path.isdir(sChildPath):\n",
    "            print_directory_content(sChildPath)\n",
    "        else:\n",
    "            print(sChildPath)\n",
    "            \n",
    "print_directory_content('.')"
   ]
  },
  {
   "cell_type": "markdown",
   "metadata": {},
   "source": [
    "### 7. 如何用Python删除一个文件，copy一个文件?"
   ]
  },
  {
   "cell_type": "code",
   "execution_count": null,
   "metadata": {
    "collapsed": true
   },
   "outputs": [],
   "source": [
    "使用os.remove(filename)或者os.unlink(filename);\n",
    "\n",
    "shutil模块有一个copyfile函数可以实现文件拷贝 \n",
    "copyfile(src, dst)"
   ]
  },
  {
   "cell_type": "markdown",
   "metadata": {},
   "source": [
    "### 8.使用一行代码求一个列表的和"
   ]
  },
  {
   "cell_type": "code",
   "execution_count": null,
   "metadata": {
    "collapsed": false
   },
   "outputs": [],
   "source": [
    "from functools import reduce\n",
    "\n",
    "a = [23,45,12,67,87,98,34,13]\n",
    "reduce(lambda x,y:x+y, a)\n",
    "# reduce(lambda x,y:x+y,map(lambda x:x*10,a))\n"
   ]
  },
  {
   "cell_type": "markdown",
   "metadata": {},
   "source": [
    "### 9. 赋值，浅拷贝，深拷贝的区别"
   ]
  },
  {
   "cell_type": "markdown",
   "metadata": {},
   "source": [
    "### 10. 新建一个只有一个元素 1 的列表和元组"
   ]
  },
  {
   "cell_type": "code",
   "execution_count": null,
   "metadata": {
    "collapsed": false
   },
   "outputs": [],
   "source": [
    "a = [1]\n",
    "b = (1,)\n",
    "print(a)\n",
    "print(b)"
   ]
  },
  {
   "cell_type": "markdown",
   "metadata": {},
   "source": [
    "### 11. 通过两个列表生成一个字典"
   ]
  },
  {
   "cell_type": "code",
   "execution_count": null,
   "metadata": {
    "collapsed": false
   },
   "outputs": [],
   "source": [
    "a = [1,2]\n",
    "b = [4,5]\n",
    "{k:v for k in a for v in b}"
   ]
  },
  {
   "cell_type": "markdown",
   "metadata": {},
   "source": [
    "### 12.  \\*args 和 \\**kwargs的区别"
   ]
  },
  {
   "cell_type": "markdown",
   "metadata": {},
   "source": [
    "### 13. 看下面代码回答输出的结果是什么?为什么？"
   ]
  },
  {
   "cell_type": "code",
   "execution_count": null,
   "metadata": {
    "collapsed": false
   },
   "outputs": [],
   "source": [
    "'''\n",
    "这是一个结合了变量作用域、列表推导式和匿名函数的题目，较为复杂，比较考验Python基础知识掌握程度。\n",
    "有同学可能会回答10，其实答案是19，并且result[0~9](10)的结果都是19。\n",
    "\n",
    "这是因为函数具有调用时才查找变量的特性。在你没调用它之前，它不会保存也不关心它内部变量的具体值。\n",
    "只有等到你调用它的时候，它才逐一去找这些变量的具体值。这里的result[0]被调用的时候，变量i已经循环完毕，变成9了，而不是想象中的动态0-9值。\n",
    "\n",
    "那如果不想要这样的结果，想要i是循环的值怎么办?不要直接引用上层变量，把变量直接传进来。\n",
    "'''\n",
    "\n",
    "result = [lambda x: x + i for i in range(10)]\n",
    "# print(result)\n",
    "print(result[0](10)) # 19\n",
    "\n",
    "result = [lambda x, i=i: x + i for i in range(10)] \n",
    "print(result[0](10)) # 10"
   ]
  },
  {
   "cell_type": "markdown",
   "metadata": {},
   "source": [
    "### 14. Python 中的 GIL 是什么？全称？举个例子说说其具体体现"
   ]
  },
  {
   "cell_type": "code",
   "execution_count": null,
   "metadata": {
    "collapsed": false
   },
   "outputs": [],
   "source": [
    "'''\n",
    "GIL 全称 Global Interpreter Lock（全局解释器锁），任何 Python 线程执行前，必须先获得 GIL 锁，然后，每执行100条字节码，\n",
    "解释器就自动释放GIL锁，让别的线程有机会执行。要避免这种“现象”利用操作系统的多核优势可以有下面几种方法： \n",
    "使用 C 语言编写扩展，创建原生线程，摆脱 GIL，但是即使是扩展，在 Python 代码内，任意一条Python 代码还是会有 GIL 限制 \n",
    "使用多进程代替多线程，使用多进程时，每个进程都有自己的 GIL。故不存在进程与进程之间的 GIL 限制。但是多进程不能共享内存。\n",
    "'''"
   ]
  },
  {
   "cell_type": "markdown",
   "metadata": {},
   "source": [
    "### 15. 如何用Python来进行查询和替换一个文本字符串？"
   ]
  },
  {
   "cell_type": "code",
   "execution_count": null,
   "metadata": {
    "collapsed": true
   },
   "outputs": [],
   "source": [
    "'''\n",
    "使用re模块中的sub()函数或者subn()函数来进行查询和替换\n",
    "'''"
   ]
  },
  {
   "cell_type": "markdown",
   "metadata": {},
   "source": [
    "### 16. Python里面match()和search()的区别？"
   ]
  },
  {
   "cell_type": "code",
   "execution_count": null,
   "metadata": {
    "collapsed": true
   },
   "outputs": [],
   "source": [
    "'''\n",
    "re模块中match(pattern,string[,flags]),检查string的开头是否与pattern匹配。\n",
    "\n",
    "re模块中research(pattern,string[,flags]),在string搜索pattern的第一个匹配值。\n",
    "'''"
   ]
  },
  {
   "cell_type": "markdown",
   "metadata": {},
   "source": [
    "### 17. 有没有一个工具可以帮助查找python的bug和进行静态的代码分析？\n"
   ]
  },
  {
   "cell_type": "code",
   "execution_count": null,
   "metadata": {
    "collapsed": true
   },
   "outputs": [],
   "source": [
    "'''\n",
    "PyChecker是一个python代码的静态分析工具，它可以帮助查找python代码的bug, 会对代码的复杂度和格式提出警告\n",
    "\n",
    "Pylint是另外一个工具可以进行codingstandard检查\n",
    "'''\n"
   ]
  },
  {
   "cell_type": "markdown",
   "metadata": {},
   "source": [
    "### 18. 如何对于一个多元组按某一项进行排序"
   ]
  },
  {
   "cell_type": "code",
   "execution_count": null,
   "metadata": {
    "collapsed": true
   },
   "outputs": [],
   "source": [
    "student_tuples = [\n",
    "     ('john', 'A', 15),\n",
    "     ('jane', 'B', 12),\n",
    "     ('dave', 'B', 10),\n",
    " ]"
   ]
  },
  {
   "cell_type": "markdown",
   "metadata": {},
   "source": [
    "### 19. 嵌套列表降维"
   ]
  },
  {
   "cell_type": "code",
   "execution_count": null,
   "metadata": {
    "collapsed": false
   },
   "outputs": [],
   "source": [
    "# flattened = [i for row in matrix for i in row]\n",
    "\n",
    "a = [[1,2,3], [4,5,6]]\n",
    "[i for row in a for i in row]"
   ]
  },
  {
   "cell_type": "markdown",
   "metadata": {},
   "source": [
    "### 20. 将csv文件读取为字典列表"
   ]
  },
  {
   "cell_type": "code",
   "execution_count": null,
   "metadata": {
    "collapsed": true
   },
   "outputs": [],
   "source": [
    "import csv\n",
    "data = [ x for x in csv.DictReader(open('file.csv', 'rU'))]\n",
    "'''\n",
    "DictReader类将会自动地使用csv文件的第一行作为字典的key属性名。DictReader类返回一个将会遍历csv文件所有行的对象。\n",
    "这个文件对象通过open()函数产生。我们提供了open()两个参数–第一个是csv文件名，第二个是模式。在这例子，‘rU’有两个意思。\n",
    "像往常一样，‘r’表示以读模式打开文件。‘U’表明我们将会接受通用换行符–‘n’，‘r’和‘rn’。\n",
    "'''\n"
   ]
  },
  {
   "cell_type": "markdown",
   "metadata": {},
   "source": [
    "### 21. 手写一个原生python实现的邮件发送程序"
   ]
  },
  {
   "cell_type": "markdown",
   "metadata": {
    "collapsed": true
   },
   "source": [
    "### 22. 打印100以内的素数"
   ]
  },
  {
   "cell_type": "code",
   "execution_count": null,
   "metadata": {
    "collapsed": false
   },
   "outputs": [],
   "source": [
    "# 素数：只能被1和自身整除\n",
    "\n",
    "for i in range(2, 100):\n",
    "    for j in range(2, i):\n",
    "        if i % j == 0:\n",
    "            print(i, ' equals', j, 'x', i//j)\n",
    "            break\n",
    "    else:\n",
    "        print('%d is a prime number' % i)"
   ]
  },
  {
   "cell_type": "markdown",
   "metadata": {},
   "source": [
    "### 23. if/else和for/else和while/else之间的区别"
   ]
  },
  {
   "cell_type": "code",
   "execution_count": null,
   "metadata": {
    "collapsed": true
   },
   "outputs": [],
   "source": [
    "'''\n",
    "When used with a loop, the else clause has more in common with the else clause of a try statement \n",
    "than it does that of if statements: a try statement’s else clause runs when no exception occurs, \n",
    "and a loop’s else clause runs when no break occurs. \n",
    "\n",
    "在循环中使用else语句与在try中使用else语句更加相似，而不是和if语句中的else。try语句中的else在没有异常出现的情况下运行，\n",
    "循环中的else在没有break出现的情况下运行。\n",
    "'''"
   ]
  },
  {
   "cell_type": "code",
   "execution_count": null,
   "metadata": {
    "collapsed": false
   },
   "outputs": [],
   "source": [
    "# for ... else ...语法:\n",
    "# 只有当for循环正常结束，才会执行else中内容，如果for循环中遇到break,则不会执行else中内容\n",
    "\n",
    "for i in range(10):\n",
    "    if i % 2 != 0:\n",
    "        break\n",
    "#         continue\n",
    "    print(i)\n",
    "    \n",
    "else:\n",
    "    print('hello')"
   ]
  },
  {
   "cell_type": "code",
   "execution_count": null,
   "metadata": {
    "collapsed": false
   },
   "outputs": [],
   "source": [
    "# while ... else ..."
   ]
  },
  {
   "cell_type": "markdown",
   "metadata": {},
   "source": [
    "### 24. 打印斐波那契数列"
   ]
  },
  {
   "cell_type": "code",
   "execution_count": null,
   "metadata": {
    "collapsed": false
   },
   "outputs": [],
   "source": [
    "def fib(n):\n",
    "    a, b = 0, 1\n",
    "    while a < n:\n",
    "        print(a, end=',')\n",
    "        a, b = b, a+b\n",
    "    print()\n",
    "    \n",
    "fib(1000)"
   ]
  },
  {
   "cell_type": "markdown",
   "metadata": {},
   "source": [
    "### 25. python编码风格pep8"
   ]
  },
  {
   "cell_type": "code",
   "execution_count": null,
   "metadata": {
    "collapsed": true
   },
   "outputs": [],
   "source": [
    "'''\n",
    "\n",
    "1. 使用4个空格，而非制表符tab\n",
    "2. 一行不要超过79个字符\n",
    "3. 函数和类之间用空格分开，函数内部代码块之间用空格分开\n",
    "4. 让尽可能注释单独占用一行\n",
    "5. 使用docstrings\n",
    "6. 操作符之间用空格分开，逗号后面使用空格，除了在圆括号内使用\n",
    "7. 对于类和函数的命名要保持风格一致：使用驼峰法命名类，使用小写字母加下划线的方式命名函数和方法\n",
    "8. 不要使用特殊的字符编码。python默认utf-8编码，一般情况下，纯文本ASCII编码都要要 更加适合\n",
    "9. 不要在标识符中使用非ASCII编码的字符，即使只有很少的使用不同语言的人来阅读或维护你的代码\n",
    "\n",
    "'''"
   ]
  }
 ],
 "metadata": {
  "kernelspec": {
   "display_name": "Python 3",
   "language": "python",
   "name": "python3"
  },
  "language_info": {
   "codemirror_mode": {
    "name": "ipython",
    "version": 3
   },
   "file_extension": ".py",
   "mimetype": "text/x-python",
   "name": "python",
   "nbconvert_exporter": "python",
   "pygments_lexer": "ipython3",
   "version": "3.6.0"
  }
 },
 "nbformat": 4,
 "nbformat_minor": 2
}
