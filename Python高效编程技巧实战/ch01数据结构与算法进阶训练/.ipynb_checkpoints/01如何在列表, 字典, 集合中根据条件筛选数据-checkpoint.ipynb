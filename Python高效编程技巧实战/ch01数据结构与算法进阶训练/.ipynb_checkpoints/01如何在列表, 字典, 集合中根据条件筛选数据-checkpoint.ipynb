{
 "cells": [
  {
   "cell_type": "markdown",
   "metadata": {},
   "source": [
    "## 如何在列表, 字典, 集合中根据条件筛选数据"
   ]
  },
  {
   "cell_type": "markdown",
   "metadata": {},
   "source": [
    "### 1. 过滤出列表中的正数"
   ]
  },
  {
   "cell_type": "code",
   "execution_count": null,
   "metadata": {
    "collapsed": true
   },
   "outputs": [],
   "source": [
    "from random import randint"
   ]
  },
  {
   "cell_type": "code",
   "execution_count": null,
   "metadata": {
    "collapsed": false
   },
   "outputs": [],
   "source": [
    "#随机生成10个正整数\n",
    "lst1 = [randint(-10, 10) for _ in range(10)]\n",
    "print(lst1)\n",
    "\n",
    "# 方法1：循环\n",
    "lst = []\n",
    "for i in lst1:\n",
    "    if i > 0:\n",
    "        lst.append(i)\n",
    "print(lst)"
   ]
  },
  {
   "cell_type": "code",
   "execution_count": null,
   "metadata": {
    "collapsed": false
   },
   "outputs": [],
   "source": [
    "# 方法2：列表解析\n",
    "print([x for x in lst1 if x > 0])\n",
    "%timeit [x for x in lst1 if x > 0] # 列表解析"
   ]
  },
  {
   "cell_type": "code",
   "execution_count": null,
   "metadata": {
    "collapsed": false
   },
   "outputs": [],
   "source": [
    "# 方法3：filter函数\n",
    "print(list(filter(lambda x:x>0, lst1)))\n",
    "%timeit list(filter(lambda x:x>0, lst1))"
   ]
  },
  {
   "cell_type": "markdown",
   "metadata": {},
   "source": [
    "### 2. 筛选出字典中值大于90的项"
   ]
  },
  {
   "cell_type": "code",
   "execution_count": null,
   "metadata": {
    "collapsed": false
   },
   "outputs": [],
   "source": [
    "# 随机生成20个学号[1~20]和成绩[60~100]\n",
    "data = {x: randint(60, 100) for x in range(1,21)}\n",
    "print(data)\n",
    "{k:v for k,v in data.items() if v > 90} # 字典解析"
   ]
  },
  {
   "cell_type": "markdown",
   "metadata": {},
   "source": [
    "### 3. 筛选出集合中内被三整除的数"
   ]
  },
  {
   "cell_type": "code",
   "execution_count": null,
   "metadata": {
    "collapsed": false
   },
   "outputs": [],
   "source": [
    "data = set(data.values())\n",
    "{x for x in data if x % 3 == 0}  # 集合解析"
   ]
  }
 ],
 "metadata": {
  "kernelspec": {
   "display_name": "Python 3",
   "language": "python",
   "name": "python3"
  },
  "language_info": {
   "codemirror_mode": {
    "name": "ipython",
    "version": 3
   },
   "file_extension": ".py",
   "mimetype": "text/x-python",
   "name": "python",
   "nbconvert_exporter": "python",
   "pygments_lexer": "ipython3",
   "version": "3.6.0"
  }
 },
 "nbformat": 4,
 "nbformat_minor": 2
}
