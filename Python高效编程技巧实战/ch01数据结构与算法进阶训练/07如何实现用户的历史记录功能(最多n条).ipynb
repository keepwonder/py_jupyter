{
 "cells": [
  {
   "cell_type": "markdown",
   "metadata": {},
   "source": [
    "## 猜数字，并记录最近5次的记录"
   ]
  },
  {
   "cell_type": "code",
   "execution_count": 33,
   "metadata": {
    "collapsed": false
   },
   "outputs": [
    {
     "name": "stdout",
     "output_type": "stream",
     "text": [
      "读取上次历史记录\n",
      "Please enter a number: 36\n",
      "The number is smaller! Try again!\n",
      "Please enter a number: 24\n",
      "The number is greater! Try again!\n",
      "Please enter a number: 29\n",
      "The number is greater! Try again!\n",
      "Please enter a number: 34\n",
      "The number is smaller! Try again!\n",
      "Please enter a number: 31\n",
      "Bingo!It's 31! You took 15.52s to catch me!  \n"
     ]
    }
   ],
   "source": [
    "from random import randint\n",
    "from collections import deque\n",
    "import pickle\n",
    "import time\n",
    "\n",
    "N = randint(0, 100)\n",
    "try:  \n",
    "    with open('guess_history.pkl', 'rb') as p:\n",
    "        print('读取上次历史记录')\n",
    "        history = pickle.load(p)\n",
    "except:\n",
    "    print('第一次运行该程序，还没创建历史记录文件')\n",
    "    history = deque([], 5) \n",
    "\n",
    "def guess(k):\n",
    "    if k == N:\n",
    "        end = time.time()\n",
    "        print('Bingo!It\\'s %s! You took %.2fs to catch me!  ' % (k,end-begin))\n",
    "        return True\n",
    "    elif k < N:\n",
    "        print('The number is greater! Try again!')\n",
    "    else:\n",
    "        print('The number is smaller! Try again!')\n",
    "\n",
    "begin = time.time()\n",
    "while True:\n",
    "    k = input('Please enter a number: ') \n",
    "    if k.isdigit():\n",
    "        k = int(k)\n",
    "        history.append(k)\n",
    "        if guess(k):\n",
    "            with open('guess_history.pkl', 'wb') as p:\n",
    "                pickle.dump(history, p)\n",
    "            break\n",
    "    elif k == 'history' or k == 'h?': \n",
    "        print(history)\n",
    "    \n",
    "\n",
    "    "
   ]
  },
  {
   "cell_type": "code",
   "execution_count": null,
   "metadata": {
    "collapsed": true
   },
   "outputs": [],
   "source": []
  }
 ],
 "metadata": {
  "kernelspec": {
   "display_name": "Python 3",
   "language": "python",
   "name": "python3"
  },
  "language_info": {
   "codemirror_mode": {
    "name": "ipython",
    "version": 3
   },
   "file_extension": ".py",
   "mimetype": "text/x-python",
   "name": "python",
   "nbconvert_exporter": "python",
   "pygments_lexer": "ipython3",
   "version": "3.6.0"
  }
 },
 "nbformat": 4,
 "nbformat_minor": 2
}
