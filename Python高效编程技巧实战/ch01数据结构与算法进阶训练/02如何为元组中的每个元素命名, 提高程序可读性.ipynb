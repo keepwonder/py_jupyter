{
 "cells": [
  {
   "cell_type": "markdown",
   "metadata": {},
   "source": [
    "##  如何为元组中的每个元素命名, 提高程序可读性"
   ]
  },
  {
   "cell_type": "code",
   "execution_count": null,
   "metadata": {
    "collapsed": true
   },
   "outputs": [],
   "source": [
    "# ('Jack', 20, 'male', 'jack@hotmail.com')\n",
    "# ('Lucy', 18, 'female', 'lucy@foxmail.com')\n",
    "\n",
    "student = ('Jone', 25, 'male', 'jone@qq.com')"
   ]
  },
  {
   "cell_type": "code",
   "execution_count": null,
   "metadata": {
    "collapsed": false
   },
   "outputs": [],
   "source": [
    "# 传统读取元组元素：索引\n",
    "name = student[0]\n",
    "age = student[1]\n",
    "gender = student[2]\n",
    "mail = student[3]\n",
    "\n",
    "print(name, age, gender, mail, sep=',')"
   ]
  },
  {
   "cell_type": "code",
   "execution_count": null,
   "metadata": {
    "collapsed": false
   },
   "outputs": [],
   "source": [
    "# 给索引命名\n",
    "name,age,gender,mail = range(4)\n",
    "\n",
    "name = student[name]\n",
    "age = student[age]\n",
    "gender = student[gender]\n",
    "mail = student[mail]\n",
    "\n",
    "print(name, age, gender, mail, sep=',')"
   ]
  },
  {
   "cell_type": "code",
   "execution_count": null,
   "metadata": {
    "collapsed": false
   },
   "outputs": [],
   "source": [
    "# 使用nametuple\n",
    "from collections import namedtuple\n",
    "Student = namedtuple('Student',['name', 'age', 'gender', 'mail'])\n",
    "s = Student('Lenoard', 26, 'male', 'lenoard@qq.com')\n",
    "s2 = Student(name='jack',age=24, gender='male', mail='jack@163.com')\n",
    "s,s2"
   ]
  },
  {
   "cell_type": "code",
   "execution_count": null,
   "metadata": {
    "collapsed": false
   },
   "outputs": [],
   "source": [
    "s.name, s.age, s.gender, s.mail"
   ]
  },
  {
   "cell_type": "code",
   "execution_count": null,
   "metadata": {
    "collapsed": false
   },
   "outputs": [],
   "source": [
    "type(s), isinstance(s, tuple) "
   ]
  },
  {
   "cell_type": "code",
   "execution_count": null,
   "metadata": {
    "collapsed": true
   },
   "outputs": [],
   "source": []
  }
 ],
 "metadata": {
  "kernelspec": {
   "display_name": "Python 3",
   "language": "python",
   "name": "python3"
  },
  "language_info": {
   "codemirror_mode": {
    "name": "ipython",
    "version": 3
   },
   "file_extension": ".py",
   "mimetype": "text/x-python",
   "name": "python",
   "nbconvert_exporter": "python",
   "pygments_lexer": "ipython3",
   "version": "3.6.0"
  }
 },
 "nbformat": 4,
 "nbformat_minor": 2
}
