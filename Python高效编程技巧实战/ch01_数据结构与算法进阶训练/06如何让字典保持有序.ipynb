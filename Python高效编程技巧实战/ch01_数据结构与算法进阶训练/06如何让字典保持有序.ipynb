{
 "cells": [
  {
   "cell_type": "markdown",
   "metadata": {},
   "source": [
    "## 如何让字典保持有序"
   ]
  },
  {
   "cell_type": "code",
   "execution_count": 1,
   "metadata": {
    "collapsed": false
   },
   "outputs": [
    {
     "name": "stdout",
     "output_type": "stream",
     "text": [
      "\n",
      "E 0.9594550132751465\n",
      "\n",
      "C 1.5923941135406494\n",
      "\n",
      "B 2.382504940032959\n",
      "\n",
      "G 3.056520938873291\n",
      "\n",
      "A 3.712973117828369\n",
      "\n",
      "F 4.680761098861694\n",
      "\n",
      "H 5.928912162780762\n",
      "\n",
      "D 7.048943042755127\n",
      "\n",
      "*************成绩榜**************\n",
      "1 ('E', 0.9594550132751465)\n",
      "2 ('C', 1.5923941135406494)\n",
      "3 ('B', 2.382504940032959)\n",
      "4 ('G', 3.056520938873291)\n",
      "5 ('A', 3.712973117828369)\n",
      "6 ('F', 4.680761098861694)\n",
      "7 ('H', 5.928912162780762)\n",
      "8 ('D', 7.048943042755127)\n"
     ]
    }
   ],
   "source": [
    "# 模拟8个选手答题，按时间顺序放入字典\n",
    "from collections import OrderedDict\n",
    "from random import randint\n",
    "import time\n",
    "\n",
    "players = list('ABCDEFGH')\n",
    "d = OrderedDict()\n",
    "begin = time.time()\n",
    "for i in range(len(players)):\n",
    "    input() # 模拟时间控制\n",
    "    player = players.pop(randint(0, len(players)-1))\n",
    "    end = time.time()\n",
    "    print(player, end-begin)\n",
    "    d[i+1] = (player, end-begin)\n",
    "\n",
    "print()\n",
    "print('成绩榜'.center(30,'*'))\n",
    "for k,v in d.items():\n",
    "    print(k,v)\n"
   ]
  },
  {
   "cell_type": "code",
   "execution_count": null,
   "metadata": {
    "collapsed": true
   },
   "outputs": [],
   "source": []
  }
 ],
 "metadata": {
  "kernelspec": {
   "display_name": "Python 3",
   "language": "python",
   "name": "python3"
  },
  "language_info": {
   "codemirror_mode": {
    "name": "ipython",
    "version": 3
   },
   "file_extension": ".py",
   "mimetype": "text/x-python",
   "name": "python",
   "nbconvert_exporter": "python",
   "pygments_lexer": "ipython3",
   "version": "3.6.0"
  }
 },
 "nbformat": 4,
 "nbformat_minor": 2
}
