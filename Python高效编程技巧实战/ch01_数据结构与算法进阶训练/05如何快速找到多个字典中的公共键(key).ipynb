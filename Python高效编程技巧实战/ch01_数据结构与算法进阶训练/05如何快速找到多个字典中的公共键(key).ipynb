{
 "cells": [
  {
   "cell_type": "markdown",
   "metadata": {},
   "source": [
    "## 如何快速找到多个字典中的公共键(key)"
   ]
  },
  {
   "cell_type": "code",
   "execution_count": 5,
   "metadata": {
    "collapsed": false
   },
   "outputs": [
    {
     "name": "stdout",
     "output_type": "stream",
     "text": [
      "{'b': 2, 'a': 4, 'f': 3, 'd': 1} {'b': 2, 'd': 4, 'e': 2, 'f': 2, 'a': 1, 'c': 4} {'c': 1, 'f': 2, 'd': 1}\n",
      "f\n",
      "d\n",
      "{'d', 'f'}\n"
     ]
    }
   ],
   "source": [
    "from random import randint, sample\n",
    "\n",
    "# 产生组数据\n",
    "s1 = {x:randint(1,4) for x in sample('abcdef', randint(3,6))}\n",
    "s2 = {x:randint(1,4) for x in sample('abcdef', randint(3,6))}\n",
    "s3 = {x:randint(1,4) for x in sample('abcdef', randint(3,6))}\n",
    "print(s1, s2, s3)\n",
    "\n",
    "\n",
    "# 方法1：\n",
    "for k in s1.keys():\n",
    "    if k in s2.keys() and k in s3.keys():\n",
    "        print(k)\n",
    "        \n",
    "# 方法2，转化为集合，使用集合的交集操作:\n",
    "key1 = set(s1.keys())\n",
    "key2 = set(s2.keys())\n",
    "key3 = set(s3.keys())\n",
    "print(key1 & key2 & key3)"
   ]
  },
  {
   "cell_type": "code",
   "execution_count": null,
   "metadata": {
    "collapsed": true
   },
   "outputs": [],
   "source": []
  }
 ],
 "metadata": {
  "kernelspec": {
   "display_name": "Python 3",
   "language": "python",
   "name": "python3"
  },
  "language_info": {
   "codemirror_mode": {
    "name": "ipython",
    "version": 3
   },
   "file_extension": ".py",
   "mimetype": "text/x-python",
   "name": "python",
   "nbconvert_exporter": "python",
   "pygments_lexer": "ipython3",
   "version": "3.6.0"
  }
 },
 "nbformat": 4,
 "nbformat_minor": 2
}
