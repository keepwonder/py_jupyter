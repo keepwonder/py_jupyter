{
 "cells": [
  {
   "cell_type": "markdown",
   "metadata": {
    "collapsed": true
   },
   "source": [
    "## json使用"
   ]
  },
  {
   "cell_type": "markdown",
   "metadata": {},
   "source": [
    "## 将python对象转化成json字符串"
   ]
  },
  {
   "cell_type": "code",
   "execution_count": 15,
   "metadata": {
    "collapsed": true
   },
   "outputs": [],
   "source": [
    "import json\n",
    "\n",
    "## 只有基本类型才能被转成json字符串：int, float, list, dict, tuple..."
   ]
  },
  {
   "cell_type": "code",
   "execution_count": null,
   "metadata": {
    "collapsed": false
   },
   "outputs": [],
   "source": [
    "persons = [\n",
    "    {\n",
    "        'name': 'jack',\n",
    "        'age': 18,\n",
    "        'gender': 'male'\n",
    "    },\n",
    "    {\n",
    "        'name': 'Lily',\n",
    "        'age': 18,\n",
    "        'gender': 'female'\n",
    "    },\n",
    "    {\n",
    "        'name': '张三丰',\n",
    "        'age': 108,\n",
    "        'gender': 'male'\n",
    "    }\n",
    "]\n",
    "\n",
    "json_str = json.dumps(persons)\n",
    "print(json_str)"
   ]
  },
  {
   "cell_type": "markdown",
   "metadata": {},
   "source": [
    "## 将python对象直接dump到文件"
   ]
  },
  {
   "cell_type": "code",
   "execution_count": 20,
   "metadata": {
    "collapsed": false
   },
   "outputs": [],
   "source": [
    "\n",
    "# 存储中文\n",
    "with open('persons.json', 'w', encoding='utf-8') as f:\n",
    "    json.dump(persons, f, ensure_ascii=False)"
   ]
  },
  {
   "cell_type": "markdown",
   "metadata": {},
   "source": [
    "## 将json字符串load成python对象"
   ]
  },
  {
   "cell_type": "code",
   "execution_count": null,
   "metadata": {
    "collapsed": false
   },
   "outputs": [],
   "source": [
    "json_str = '[{\"name\":\"张三丰\", \"age\":108, \"gender\": \"male\"},{\"name\": \"jack\", \"age\": 18, \"gender\": \"male\"}]'\n",
    "persons = json.loads(json_str)\n",
    "for person in persons:\n",
    "    print(person)"
   ]
  },
  {
   "cell_type": "markdown",
   "metadata": {},
   "source": [
    "## 从文件load"
   ]
  },
  {
   "cell_type": "code",
   "execution_count": 21,
   "metadata": {
    "collapsed": false
   },
   "outputs": [
    {
     "name": "stdout",
     "output_type": "stream",
     "text": [
      "{'name': '张三丰', 'age': 108, 'gender': 'male'}\n",
      "{'name': 'jack', 'age': 18, 'gender': 'male'}\n"
     ]
    }
   ],
   "source": [
    "with open('persons.json', 'r', encoding='utf-8') as f:\n",
    "    persons = json.load(f)\n",
    "    for person in persons:\n",
    "        print(person)"
   ]
  },
  {
   "cell_type": "code",
   "execution_count": null,
   "metadata": {
    "collapsed": true
   },
   "outputs": [],
   "source": []
  }
 ],
 "metadata": {
  "kernelspec": {
   "display_name": "Python 3",
   "language": "python",
   "name": "python3"
  },
  "language_info": {
   "codemirror_mode": {
    "name": "ipython",
    "version": 3
   },
   "file_extension": ".py",
   "mimetype": "text/x-python",
   "name": "python",
   "nbconvert_exporter": "python",
   "pygments_lexer": "ipython3",
   "version": "3.6.0"
  }
 },
 "nbformat": 4,
 "nbformat_minor": 2
}
