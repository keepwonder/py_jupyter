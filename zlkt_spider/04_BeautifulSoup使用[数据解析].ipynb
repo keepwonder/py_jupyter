{
 "cells": [
  {
   "cell_type": "markdown",
   "metadata": {},
   "source": [
    "## BeautifulSoup使用"
   ]
  },
  {
   "cell_type": "code",
   "execution_count": 1,
   "metadata": {
    "collapsed": true
   },
   "outputs": [],
   "source": [
    "from bs4 import BeautifulSoup"
   ]
  },
  {
   "cell_type": "code",
   "execution_count": 12,
   "metadata": {
    "collapsed": false
   },
   "outputs": [
    {
     "ename": "SyntaxError",
     "evalue": "EOL while scanning string literal (<ipython-input-12-43c83fb331c2>, line 1)",
     "output_type": "error",
     "traceback": [
      "\u001b[0;36m  File \u001b[0;32m\"<ipython-input-12-43c83fb331c2>\"\u001b[0;36m, line \u001b[0;32m1\u001b[0m\n\u001b[0;31m    html = '\u001b[0m\n\u001b[0m            ^\u001b[0m\n\u001b[0;31mSyntaxError\u001b[0m\u001b[0;31m:\u001b[0m EOL while scanning string literal\n"
     ]
    }
   ],
   "source": [
    "html = '\n",
    "<tr class=\"h\">\n",
    "\t<td class=\"l\" width=\"374\">职位名称</td>\n",
    "\t<td>职位类别</td>\n",
    "\t<td>人数</td>\n",
    "\t<td>地点</td>\n",
    "\t<td>发布时间</td>\n",
    "</tr>\n",
    "\t\t    \t<tr class=\"even\">\n",
    "\t<td class=\"l square\"><a target=\"_blank\" href=\"position_detail.php?id=36840&amp;keywords=&amp;tid=87&amp;lid=0\">SNG02-腾讯云Android开发工程师（深圳）</a></td>\n",
    "\t<td>技术类</td>\n",
    "\t<td>2</td>\n",
    "\t<td>深圳</td>\n",
    "\t<td>2018-02-09</td>\n",
    "</tr>'\n",
    "soup = BeautifulSoup(html, 'lxml')\n",
    "print(soup.prettify())"
   ]
  },
  {
   "cell_type": "code",
   "execution_count": null,
   "metadata": {
    "collapsed": true
   },
   "outputs": [],
   "source": []
  }
 ],
 "metadata": {
  "kernelspec": {
   "display_name": "Python 3",
   "language": "python",
   "name": "python3"
  },
  "language_info": {
   "codemirror_mode": {
    "name": "ipython",
    "version": 3
   },
   "file_extension": ".py",
   "mimetype": "text/x-python",
   "name": "python",
   "nbconvert_exporter": "python",
   "pygments_lexer": "ipython3",
   "version": "3.6.0"
  }
 },
 "nbformat": 4,
 "nbformat_minor": 2
}
