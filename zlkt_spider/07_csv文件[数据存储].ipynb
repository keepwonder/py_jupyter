{
 "cells": [
  {
   "cell_type": "markdown",
   "metadata": {},
   "source": [
    "## csv文件读写"
   ]
  },
  {
   "cell_type": "markdown",
   "metadata": {},
   "source": [
    "### 读取"
   ]
  },
  {
   "cell_type": "code",
   "execution_count": 10,
   "metadata": {
    "collapsed": false
   },
   "outputs": [
    {
     "name": "stdout",
     "output_type": "stream",
     "text": [
      "<class '_csv.reader'>\n",
      "{'state:': 'U.S.'}\n",
      "{'state:': 'U.S.'}\n",
      "{'state:': 'Virginia'}\n",
      "{'state:': 'Florida'}\n",
      "{'state:': 'U.S.'}\n",
      "{'state:': 'U.S.'}\n"
     ]
    }
   ],
   "source": [
    "import csv\n",
    "\n",
    "# csv.reader方法\n",
    "with open('presidential_polls.csv') as f:\n",
    "    reader = csv.reader(f)\n",
    "    print(type(reader))\n",
    "    next(reader)\n",
    "    for index,line in enumerate(reader):\n",
    "#         print(line)\n",
    "        print({'state:': line[5]})\n",
    "        if index == 5:\n",
    "            break"
   ]
  },
  {
   "cell_type": "code",
   "execution_count": 11,
   "metadata": {
    "collapsed": true
   },
   "outputs": [],
   "source": [
    "# csv.DictReader方法"
   ]
  },
  {
   "cell_type": "code",
   "execution_count": 16,
   "metadata": {
    "collapsed": false
   },
   "outputs": [
    {
     "name": "stdout",
     "output_type": "stream",
     "text": [
      "<class 'csv.DictReader'>\n",
      "{'state': 'U.S.', 'pollster': 'Google Consumer Surveys'}\n",
      "{'state': 'U.S.', 'pollster': 'ABC News/Washington Post'}\n",
      "{'state': 'Virginia', 'pollster': 'ABC News/Washington Post'}\n",
      "{'state': 'Florida', 'pollster': 'SurveyUSA'}\n",
      "{'state': 'U.S.', 'pollster': 'Pew Research Center'}\n",
      "{'state': 'U.S.', 'pollster': 'Fox News/Anderson Robbins Research/Shaw & Company Research'}\n"
     ]
    }
   ],
   "source": [
    "with open('presidential_polls.csv') as f:\n",
    "    reader = csv.DictReader(f)\n",
    "    print(type(reader))\n",
    "    for index, line in enumerate(reader):\n",
    "        value = {'state': line['state'], 'pollster': line['pollster']}\n",
    "        print(value)\n",
    "        if index == 5:\n",
    "            break"
   ]
  },
  {
   "cell_type": "markdown",
   "metadata": {},
   "source": [
    "## 写入"
   ]
  },
  {
   "cell_type": "code",
   "execution_count": 23,
   "metadata": {
    "collapsed": false
   },
   "outputs": [],
   "source": [
    "import csv\n",
    "\n",
    "headers = ['name', 'age', 'height']\n",
    "def use_writer():\n",
    "    values = [\n",
    "        ('jack', 18, 180),\n",
    "        ('lucy', 19, 165),\n",
    "        ('luke', 20, 178)\n",
    "    ]\n",
    "    \n",
    "    with open('students.csv', 'w', encoding='utf-8', newline='') as f:\n",
    "        writer = csv.writer(f)\n",
    "        writer.writerow(headers)\n",
    "        writer.writerows(values)\n",
    "        \n",
    "def use_dictwriter():\n",
    "    values = [\n",
    "        {'name': 'jack', 'age': 18, 'height': 180},\n",
    "        {'name': 'lucy', 'age': 19, 'height': 165},\n",
    "        {'name': 'luke', 'age': 20, 'height': 178}\n",
    "    ]\n",
    "    with open('student2.csv', 'w') as f:\n",
    "        writer = csv.DictWriter(f, headers)\n",
    "        writer.writeheader()\n",
    "        writer.writerows(values)\n",
    "        \n",
    "    \n",
    "\n",
    "if __name__ == '__main__':\n",
    "    use_dictwriter()"
   ]
  },
  {
   "cell_type": "code",
   "execution_count": null,
   "metadata": {
    "collapsed": true
   },
   "outputs": [],
   "source": []
  }
 ],
 "metadata": {
  "kernelspec": {
   "display_name": "Python 3",
   "language": "python",
   "name": "python3"
  },
  "language_info": {
   "codemirror_mode": {
    "name": "ipython",
    "version": 3
   },
   "file_extension": ".py",
   "mimetype": "text/x-python",
   "name": "python",
   "nbconvert_exporter": "python",
   "pygments_lexer": "ipython3",
   "version": "3.6.0"
  }
 },
 "nbformat": 4,
 "nbformat_minor": 2
}
