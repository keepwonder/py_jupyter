{
 "cells": [
  {
   "cell_type": "markdown",
   "metadata": {},
   "source": [
    "## BeautifulSoup使用"
   ]
  },
  {
   "cell_type": "code",
   "execution_count": null,
   "metadata": {
    "collapsed": true
   },
   "outputs": [],
   "source": [
    "from bs4 import BeautifulSoup"
   ]
  },
  {
   "cell_type": "code",
   "execution_count": 32,
   "metadata": {
    "collapsed": false
   },
   "outputs": [
    {
     "name": "stdout",
     "output_type": "stream",
     "text": [
      "<class 'bs4.BeautifulSoup'>\n"
     ]
    }
   ],
   "source": [
    "html = '''\n",
    "<tr class=\"h\">\n",
    "\t\t    \t\t<td class=\"l\" width=\"374\">职位名称</td>\n",
    "\t\t    \t\t<td>职位类别</td>\n",
    "\t\t    \t\t<td>人数</td>\n",
    "\t\t    \t\t<td>地点</td>\n",
    "\t\t    \t\t<td>发布时间</td>\n",
    "\t\t    \t</tr>\n",
    "\t\t    \t\t\t    \t<tr class=\"even\">\n",
    "\t\t    \t\t<td class=\"l square\"><a target=\"_blank\" href=\"position_detail.php?id=36840&amp;keywords=&amp;tid=87&amp;lid=0\">SNG02-腾讯云Android开发工程师（深圳）</a></td>\n",
    "\t\t\t\t\t<td>技术类</td>\n",
    "\t\t\t\t\t<td>2</td>\n",
    "\t\t\t\t\t<td>深圳</td>\n",
    "\t\t\t\t\t<td>2018-02-09</td>\n",
    "\t\t    \t</tr>\n",
    "\t\t    \t\t\t    \t<tr class=\"odd\">\n",
    "\t\t    \t\t<td class=\"l square\"><a target=\"_blank\" href=\"position_detail.php?id=36838&amp;keywords=&amp;tid=87&amp;lid=0\">22989-机器学习平台开发工程师（性能调优）（深圳/北京/上海）</a></td>\n",
    "\t\t\t\t\t<td>技术类</td>\n",
    "\t\t\t\t\t<td>3</td>\n",
    "\t\t\t\t\t<td>深圳</td>\n",
    "\t\t\t\t\t<td>2018-02-09</td>\n",
    "\t\t    \t</tr>\n",
    "\t\t    \t\t\t    \t<tr class=\"even\">\n",
    "\t\t    \t\t<td class=\"l square\"><a id='test' class='test' target=\"_blank\" href=\"position_detail.php?id=36837&amp;keywords=&amp;tid=87&amp;lid=0\">22989-机器学习平台开发工程师（框架开发）（深圳/北京/上海）</a></td>\n",
    "\t\t\t\t\t<td>技术类</td>\n",
    "\t\t\t\t\t<td>3</td>\n",
    "\t\t\t\t\t<td>深圳</td>\n",
    "\t\t\t\t\t<td>2018-02-09</td>\n",
    "\t\t    \t</tr>\n",
    "'''\n",
    "soup = BeautifulSoup(html, 'lxml')\n",
    "print(type(soup))\n",
    "# print(soup.prettify())"
   ]
  },
  {
   "cell_type": "markdown",
   "metadata": {
    "collapsed": true
   },
   "source": [
    "## find和find_all提取元素"
   ]
  },
  {
   "cell_type": "code",
   "execution_count": 31,
   "metadata": {
    "collapsed": false
   },
   "outputs": [
    {
     "name": "stdout",
     "output_type": "stream",
     "text": [
      "['职位名称', '职位类别', '人数', '地点', '发布时间']\n",
      "['SNG02-腾讯云Android开发工程师（深圳）', '技术类', '2', '深圳', '2018-02-09']\n",
      "['22989-机器学习平台开发工程师（性能调优）（深圳/北京/上海）', '技术类', '3', '深圳', '2018-02-09']\n",
      "['22989-机器学习平台开发工程师（框架开发）（深圳/北京/上海）', '技术类', '3', '深圳', '2018-02-09']\n"
     ]
    }
   ],
   "source": [
    "# 1. 获取所有的tr标签\n",
    "trs = soup.find_all('tr')\n",
    "# print(type(trs))\n",
    "# for tr in trs:\n",
    "#     print(tr)\n",
    "\n",
    "# 2. 获取第二个tr标签\n",
    "# print(trs[1])\n",
    "\n",
    "# 3. 获取所有class等于even的tr标签\n",
    "# trs = soup.find_all('tr', class_='even')\n",
    "# print(trs)\n",
    "\n",
    "# 4. 获取所有id等于test，class也等于test的a标签\n",
    "# aList = soup.find_all('a', id='test', class_='test')\n",
    "# print(aList)\n",
    "\n",
    "# 5. 获取所有a标签的href属性\n",
    "# aList = soup.find_all('a')\n",
    "# for a in aList:\n",
    "#     href = a['href']\n",
    "#     print(href)\n",
    "\n",
    "# 6. 获取所有的职位信息\n",
    "trs = soup.find_all('tr')\n",
    "job = {}\n",
    "jobs = []\n",
    "# for tr in trs[1:]:\n",
    "#     tds = tr.find_all('td')\n",
    "#     title = tds[0].string\n",
    "#     category = tds[1].string\n",
    "#     nums = tds[2].string\n",
    "#     city = tds[3].string\n",
    "#     pubtime = tds[4].string\n",
    "#     job['title'] = title\n",
    "#     job['category'] = category\n",
    "#     job['nums'] = nums\n",
    "#     job['city'] = city\n",
    "#     job['pubtime'] = pubtime\n",
    "#     jobs.append(job)\n",
    "# print(jobs)\n",
    "\n",
    "for tr in trs:\n",
    "#     info = list(tr.strings)\n",
    "#     print(info)\n",
    "    info = list(tr.stripped_strings)\n",
    "    print(info)\n",
    "\n"
   ]
  },
  {
   "cell_type": "markdown",
   "metadata": {},
   "source": [
    "### find/find_all/string/strings/stripped_strings"
   ]
  },
  {
   "cell_type": "markdown",
   "metadata": {},
   "source": [
    "## select和css选择器"
   ]
  },
  {
   "cell_type": "markdown",
   "metadata": {},
   "source": [
    "## BeautifulSoup常用对象"
   ]
  },
  {
   "cell_type": "code",
   "execution_count": null,
   "metadata": {
    "collapsed": true
   },
   "outputs": [],
   "source": [
    "# Tag\n",
    "# BeautifulSoup\n",
    "# NavigableString\n",
    "# Comment\n",
    "from bs4 import Tag\n",
    "from bs4 import BeautifulSoup\n",
    "from bs4 import NavigableString\n",
    "from bs4 import Comment"
   ]
  }
 ],
 "metadata": {
  "kernelspec": {
   "display_name": "Python 3",
   "language": "python",
   "name": "python3"
  },
  "language_info": {
   "codemirror_mode": {
    "name": "ipython",
    "version": 3
   },
   "file_extension": ".py",
   "mimetype": "text/x-python",
   "name": "python",
   "nbconvert_exporter": "python",
   "pygments_lexer": "ipython3",
   "version": "3.6.0"
  }
 },
 "nbformat": 4,
 "nbformat_minor": 2
}
