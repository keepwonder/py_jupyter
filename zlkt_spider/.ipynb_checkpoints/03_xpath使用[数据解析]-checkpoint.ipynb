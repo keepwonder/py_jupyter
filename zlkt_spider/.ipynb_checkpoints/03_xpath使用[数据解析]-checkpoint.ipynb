{
 "cells": [
  {
   "cell_type": "markdown",
   "metadata": {
    "collapsed": true
   },
   "source": [
    "# xpath使用"
   ]
  },
  {
   "cell_type": "markdown",
   "metadata": {},
   "source": [
    "## xpath语法"
   ]
  },
  {
   "cell_type": "markdown",
   "metadata": {},
   "source": [
    "## lxml使用"
   ]
  },
  {
   "cell_type": "markdown",
   "metadata": {},
   "source": [
    "### 解析html字符串"
   ]
  },
  {
   "cell_type": "code",
   "execution_count": null,
   "metadata": {
    "collapsed": false
   },
   "outputs": [],
   "source": [
    "from lxml import etree\n",
    "\n",
    "\n",
    "text = '''\n",
    "<tbody><tr class=\"h\">\n",
    "\t\t    \t\t<td class=\"l\" width=\"374\">职位名称</td>\n",
    "\t\t    \t\t<td>职位类别</td>\n",
    "\t\t    \t\t<td>人数</td>\n",
    "\t\t    \t\t<td>地点</td>\n",
    "\t\t    \t\t<td>发布时间</td>\n",
    "\t\t    \t</tr>\n",
    "\t\t    \t\t\t    \t<tr class=\"even\">\n",
    "\t\t    \t\t<td class=\"l square\"><a target=\"_blank\" href=\"position_detail.php?id=32697&amp;keywords=&amp;tid=0&amp;lid=0\">22968-华南汽车行业销售（广州）</a></td>\n",
    "\t\t\t\t\t<td>市场类</td>\n",
    "\t\t\t\t\t<td>3</td>\n",
    "\t\t\t\t\t<td>广州</td>\n",
    "\t\t\t\t\t<td>2018-02-10</td>\n",
    "\t\t    \t</tr>\n",
    "\t\t    </tbody>\n",
    "'''\n",
    "\n",
    "html = etree.HTML(text)\n",
    "print(type(html))\n",
    "print(etree.tostring(html, encoding='utf-8').decode('utf-8'))"
   ]
  },
  {
   "cell_type": "markdown",
   "metadata": {},
   "source": [
    "### 解析html文件"
   ]
  },
  {
   "cell_type": "code",
   "execution_count": null,
   "metadata": {
    "collapsed": false
   },
   "outputs": [],
   "source": [
    "from lxml import etree\n",
    "htmlElement = etree.parse('lxml.html')   # 默认解析器为XML,遇到不规范html文件则会报错，如下，\n",
    "print(etree.tostring(htmlElement, encoding='utf-8').decode('utf-8'))"
   ]
  },
  {
   "cell_type": "code",
   "execution_count": null,
   "metadata": {
    "collapsed": false
   },
   "outputs": [],
   "source": [
    "from lxml import etree\n",
    "parser = etree.HTMLParser(encoding='utf-8')\n",
    "htmlElement = etree.parse('lxml.html',parser=parser) # 指定解析器，\n",
    "print(etree.tostring(htmlElement, encoding='utf-8').decode('utf-8'))"
   ]
  },
  {
   "cell_type": "markdown",
   "metadata": {},
   "source": [
    "## 小作业"
   ]
  },
  {
   "cell_type": "code",
   "execution_count": 79,
   "metadata": {
    "collapsed": false
   },
   "outputs": [
    {
     "name": "stdout",
     "output_type": "stream",
     "text": [
      "{'职位链接': 'https://hr.tencent.com/position_detail.php?id=36825&keywords=&tid=87&lid=0', '职位名称': '20718-数据分析工程师（深圳）', '职位类别': '技术类', '人数': '1', '地点': '深圳', '发布时间': '2018-02-09'}\n",
      "{'职位链接': 'https://hr.tencent.com/position_detail.php?id=36825&keywords=&tid=87&lid=0', '职位名称': '20718-数据分析工程师（深圳）', '职位类别': '技术类', '人数': '1', '地点': '深圳', '发布时间': '2018-02-09'}\n",
      "{'职位链接': 'https://hr.tencent.com/position_detail.php?id=36825&keywords=&tid=87&lid=0', '职位名称': '20718-数据分析工程师（深圳）', '职位类别': '技术类', '人数': '1', '地点': '深圳', '发布时间': '2018-02-09'}\n",
      "{'职位链接': 'https://hr.tencent.com/position_detail.php?id=36825&keywords=&tid=87&lid=0', '职位名称': '20718-数据分析工程师（深圳）', '职位类别': '技术类', '人数': '1', '地点': '深圳', '发布时间': '2018-02-09'}\n",
      "{'职位链接': 'https://hr.tencent.com/position_detail.php?id=36825&keywords=&tid=87&lid=0', '职位名称': '20718-数据分析工程师（深圳）', '职位类别': '技术类', '人数': '1', '地点': '深圳', '发布时间': '2018-02-09'}\n",
      "{'职位链接': 'https://hr.tencent.com/position_detail.php?id=36825&keywords=&tid=87&lid=0', '职位名称': '20718-数据分析工程师（深圳）', '职位类别': '技术类', '人数': '1', '地点': '深圳', '发布时间': '2018-02-09'}\n",
      "{'职位链接': 'https://hr.tencent.com/position_detail.php?id=36825&keywords=&tid=87&lid=0', '职位名称': '20718-数据分析工程师（深圳）', '职位类别': '技术类', '人数': '1', '地点': '深圳', '发布时间': '2018-02-09'}\n",
      "{'职位链接': 'https://hr.tencent.com/position_detail.php?id=36825&keywords=&tid=87&lid=0', '职位名称': '20718-数据分析工程师（深圳）', '职位类别': '技术类', '人数': '1', '地点': '深圳', '发布时间': '2018-02-09'}\n",
      "{'职位链接': 'https://hr.tencent.com/position_detail.php?id=36825&keywords=&tid=87&lid=0', '职位名称': '20718-数据分析工程师（深圳）', '职位类别': '技术类', '人数': '1', '地点': '深圳', '发布时间': '2018-02-09'}\n",
      "{'职位链接': 'https://hr.tencent.com/position_detail.php?id=36825&keywords=&tid=87&lid=0', '职位名称': '20718-数据分析工程师（深圳）', '职位类别': '技术类', '人数': '1', '地点': '深圳', '发布时间': '2018-02-09'}\n"
     ]
    }
   ],
   "source": [
    "# 解析tecent.html文件\n",
    "from lxml import etree\n",
    "\n",
    "parser = etree.HTMLParser(encoding='utf-8')\n",
    "html = etree.parse('tecent.html', parser=parser)\n",
    "\n",
    "# 1.获取所有tr标签\n",
    "# trs = html.xpath('//tr')\n",
    "# for tr in trs:\n",
    "#     print(etree.tostring(tr, encoding='utf-8').decode('utf-8'))\n",
    "\n",
    "# 2. 获取第二个tr标签\n",
    "# tr = html.xpath('//tr')[1]\n",
    "# print(etree.tostring(tr, encoding='utf-8').decode('utf-8'))\n",
    "\n",
    "# tr = html.xpath('//tr[2]')[0]\n",
    "# print(etree.tostring(tr, encoding='utf-8').decode('utf-8'))\n",
    "\n",
    "\n",
    "# 3. 获取所有class='even'的tr标签\n",
    "# trs = html.xpath('//tr[@class=\"even\"]')\n",
    "# for tr in trs:\n",
    "#     print(etree.tostring(tr, encoding='utf-8').decode('utf-8'))\n",
    "\n",
    "\n",
    "# 4. 获取所有a标签的href属性值\n",
    "# aList = html.xpath('//a/@href')\n",
    "# for a in aList:\n",
    "#     print('https://hr.tencent.com/'+a)\n",
    "\n",
    "# 5. 获取所有的职位信息（纯文本）\n",
    "trs = html.xpath('//tr[position()>1]')\n",
    "position_info = []\n",
    "position_dict = {}\n",
    "for tr in trs:\n",
    "    href = tr.xpath('.//a/@href')[0]\n",
    "#     title = tr.xpath('.//a/text()')[0]\n",
    "    title = tr.xpath('./td[1]//text()')[0]\n",
    "    catergory = tr.xpath('.//td[2]/text()')[0]\n",
    "    number = tr.xpath('./td[3]/text()')[0]\n",
    "    loc = tr.xpath('./td[4]/text()')[0]\n",
    "    pub_time = tr.xpath('./td[5]/text()')[0]\n",
    "    position_dict['职位链接'] = 'https://hr.tencent.com/'+href\n",
    "    position_dict['职位名称'] = title\n",
    "    position_dict['职位类别'] = catergory\n",
    "    position_dict['人数'] = number\n",
    "    position_dict['地点'] = loc\n",
    "    position_dict['发布时间'] = pub_time\n",
    "    position_info.append(position_dict)\n",
    "#     print('https://hr.tencent.com/'+href, title, catergory, number,loc, pub_time)\n",
    "# print(position_info)\n",
    "for position in position_info:\n",
    "    print(position)"
   ]
  },
  {
   "cell_type": "code",
   "execution_count": null,
   "metadata": {
    "collapsed": true
   },
   "outputs": [],
   "source": []
  }
 ],
 "metadata": {
  "kernelspec": {
   "display_name": "Python 3",
   "language": "python",
   "name": "python3"
  },
  "language_info": {
   "codemirror_mode": {
    "name": "ipython",
    "version": 3
   },
   "file_extension": ".py",
   "mimetype": "text/x-python",
   "name": "python",
   "nbconvert_exporter": "python",
   "pygments_lexer": "ipython3",
   "version": "3.6.0"
  }
 },
 "nbformat": 4,
 "nbformat_minor": 2
}
