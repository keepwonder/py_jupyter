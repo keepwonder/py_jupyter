{
 "cells": [
  {
   "cell_type": "markdown",
   "metadata": {},
   "source": [
    "## 豆瓣正在上映电影爬取"
   ]
  },
  {
   "cell_type": "code",
   "execution_count": 12,
   "metadata": {
    "collapsed": true
   },
   "outputs": [],
   "source": [
    "import requests\n",
    "from lxml import etree"
   ]
  },
  {
   "cell_type": "code",
   "execution_count": 58,
   "metadata": {
    "collapsed": false
   },
   "outputs": [
    {
     "name": "stdout",
     "output_type": "stream",
     "text": [
      "27\n",
      "[{'title': '神秘巨星', 'score': '7.9'}, {'title': '龙凤斗', 'score': '6.7'}, {'title': '南极之恋', 'score': '6.9'}, {'title': '泡芙小姐', 'score': '3.8'}, {'title': '小马宝莉大电影', 'score': '7.0'}, {'title': '马戏之王', 'score': '7.8'}, {'title': '无问西东', 'score': '7.6'}, {'title': '金龟子', 'score': '0'}, {'title': '移动迷宫3：死亡解药', 'score': '5.4'}, {'title': '公牛历险记', 'score': '7.4'}, {'title': '奇迹男孩', 'score': '8.6'}, {'title': '忌日快乐', 'score': '7.1'}, {'title': '浪矢解忧杂货店', 'score': '7.3'}, {'title': '无迹可寻', 'score': '0'}, {'title': '狗狗的疯狂假期', 'score': '6.5'}, {'title': '大导归来', 'score': '0'}, {'title': '前任3：再见前任', 'score': '5.8'}, {'title': '勇敢者游戏：决战丛林', 'score': '7.2'}, {'title': '疯狂熊孩子', 'score': '0'}, {'title': '芳华', 'score': '7.8'}, {'title': '麦兵兵之夺宝联“萌”', 'score': '0'}, {'title': '小狗奶瓶', 'score': '0'}, {'title': '盲·道', 'score': '4.9'}, {'title': '莫斯科陷落', 'score': '4.9'}, {'title': '谜巢', 'score': '4.2'}, {'title': '热血时代', 'score': '0'}, {'title': '至爱梵高·星空之谜', 'score': '8.5'}]\n"
     ]
    }
   ],
   "source": [
    "url = 'https://movie.douban.com/cinema/nowplaying/nanjing/'\n",
    "headers = {\n",
    "    'User-Agent':'Mozilla/5.0 (Macintosh; Intel Mac OS X 10_12_6) AppleWebKit/537.36 (KHTML, like Gecko) Chrome/64.0.3282.140 Safari/537.36'\n",
    "}\n",
    "\n",
    "res = requests.get(url, headers=headers)\n",
    "# print(res.text)\n",
    "\n",
    "html = etree.HTML(res.text)\n",
    "# print(type(html))\n",
    "# print(html.xpath)\n",
    "\n",
    "movie_list = []\n",
    "nowplaying_list = html.xpath('//div[@id=\"nowplaying\"]//ul')[0]\n",
    "print(len(nowplaying_list))\n",
    "for movie in nowplaying_list.xpath('./li'):\n",
    "    title = movie.xpath('@data-title')[0]\n",
    "#     print(name)\n",
    "    score = movie.xpath('@data-score')[0]\n",
    "#     print(name, score)\n",
    "    mv = {\n",
    "        'title': title,\n",
    "        'score':score\n",
    "    }\n",
    "\n",
    "    movie_list.append(mv)\n",
    "    \n",
    "print(movie_list)"
   ]
  },
  {
   "cell_type": "code",
   "execution_count": null,
   "metadata": {
    "collapsed": true
   },
   "outputs": [],
   "source": []
  }
 ],
 "metadata": {
  "kernelspec": {
   "display_name": "Python 3",
   "language": "python",
   "name": "python3"
  },
  "language_info": {
   "codemirror_mode": {
    "name": "ipython",
    "version": 3
   },
   "file_extension": ".py",
   "mimetype": "text/x-python",
   "name": "python",
   "nbconvert_exporter": "python",
   "pygments_lexer": "ipython3",
   "version": "3.6.0"
  }
 },
 "nbformat": 4,
 "nbformat_minor": 2
}
