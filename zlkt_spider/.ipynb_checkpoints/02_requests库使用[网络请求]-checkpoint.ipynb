{
 "cells": [
  {
   "cell_type": "markdown",
   "metadata": {},
   "source": [
    "# request使用"
   ]
  },
  {
   "cell_type": "code",
   "execution_count": 34,
   "metadata": {
    "collapsed": true
   },
   "outputs": [],
   "source": [
    "import requests\n",
    "from urllib import parse"
   ]
  },
  {
   "cell_type": "markdown",
   "metadata": {},
   "source": [
    "## 处理get请求"
   ]
  },
  {
   "cell_type": "code",
   "execution_count": null,
   "metadata": {
    "collapsed": false
   },
   "outputs": [],
   "source": [
    "res = requests.get('http://www.baidu.com')\n",
    "# res.text\n",
    "# print('原始编码：',res.encoding)\n",
    "# res.encoding = 'utf-8'\n",
    "# print('设置编码：',res.encoding)\n",
    "# print(type(res.text),res.text, sep='\\n')\n",
    "\n",
    "\n",
    "# res.content\n",
    "# print(type(res.content), res.content.decode('utf-8'), sep='\\n')\n",
    "\n",
    "\n",
    "print(res.url, res.encoding, res.status_code, sep='\\n')"
   ]
  },
  {
   "cell_type": "markdown",
   "metadata": {},
   "source": [
    "### 传递参数和头部信息"
   ]
  },
  {
   "cell_type": "code",
   "execution_count": null,
   "metadata": {
    "collapsed": false
   },
   "outputs": [],
   "source": [
    "params = {'wd': '中国'}\n",
    "headers = {\n",
    "    'User-Agent':'Mozilla/5.0 (Macintosh; Intel Mac OS X 10_12_6) AppleWebKit/537.36 (KHTML, like Gecko) Chrome/64.0.3282.140 Safari/537.36'\n",
    "}\n",
    "\n",
    "res = requests.get('http://www.baidu.com/s', params=params, headers=headers)\n",
    "print(res.url)\n",
    "print(parse.parse_qs(res.url))"
   ]
  },
  {
   "cell_type": "markdown",
   "metadata": {},
   "source": [
    "### response.content和response.text的区别"
   ]
  },
  {
   "cell_type": "code",
   "execution_count": null,
   "metadata": {
    "collapsed": true
   },
   "outputs": [],
   "source": []
  },
  {
   "cell_type": "markdown",
   "metadata": {},
   "source": [
    "## 处理post请求"
   ]
  },
  {
   "cell_type": "code",
   "execution_count": null,
   "metadata": {
    "collapsed": false
   },
   "outputs": [],
   "source": [
    "data = {\n",
    "    'first': 'true',\n",
    "    'pn': 1,\n",
    "    'kd': 'python'\n",
    "}\n",
    "\n",
    "headers = {\n",
    "    'Referer': 'https://www.lagou.com/jobs/list_python?city=%E5%85%A8%E5%9B%BD&cl=false&fromSearch=true&labelWords=&suginput=',\n",
    "    'User-Agent': 'Mozilla/5.0 (Macintosh; Intel Mac OS X 10_12_6) AppleWebKit/537.36 (KHTML, like Gecko) Chrome/64.0.3282.140 Safari/537.36'\n",
    "}\n",
    "\n",
    "url = 'https://www.lagou.com/jobs/positionAjax.json?needAddtionalResult=false&isSchoolJob=0'\n",
    "res = requests.post(url, data=data, headers=headers)\n",
    "print(type(res.json()))\n",
    "print(res.json())\n",
    "# print(res.text)"
   ]
  },
  {
   "cell_type": "markdown",
   "metadata": {},
   "source": [
    "### 使用代理"
   ]
  },
  {
   "cell_type": "code",
   "execution_count": 39,
   "metadata": {
    "collapsed": false
   },
   "outputs": [
    {
     "name": "stdout",
     "output_type": "stream",
     "text": [
      "{\n",
      "  \"origin\": \"36.149.1.80\"\n",
      "}\n",
      "\n",
      "{\n",
      "  \"origin\": \"120.76.77.152\"\n",
      "}\n",
      "\n"
     ]
    }
   ],
   "source": [
    "import requests\n",
    "\n",
    "# 不适用代理\n",
    "res1 = requests.get('http://httpbin.org/ip')\n",
    "print(res1.text)\n",
    "\n",
    "# 使用代理\n",
    "proxy = {\n",
    "    'http':'120.76.77.152:9999'\n",
    "}\n",
    "res = requests.get('http://httpbin.org/ip', proxies=proxy)\n",
    "print(res.text)"
   ]
  },
  {
   "cell_type": "markdown",
   "metadata": {},
   "source": [
    "### 获取cookie"
   ]
  },
  {
   "cell_type": "code",
   "execution_count": null,
   "metadata": {
    "collapsed": true
   },
   "outputs": [],
   "source": [
    "# requests.Session"
   ]
  }
 ],
 "metadata": {
  "kernelspec": {
   "display_name": "Python 3",
   "language": "python",
   "name": "python3"
  },
  "language_info": {
   "codemirror_mode": {
    "name": "ipython",
    "version": 3
   },
   "file_extension": ".py",
   "mimetype": "text/x-python",
   "name": "python",
   "nbconvert_exporter": "python",
   "pygments_lexer": "ipython3",
   "version": "3.6.0"
  }
 },
 "nbformat": 4,
 "nbformat_minor": 2
}
