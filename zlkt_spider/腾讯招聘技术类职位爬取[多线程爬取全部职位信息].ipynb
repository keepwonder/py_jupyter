{
 "cells": [
  {
   "cell_type": "markdown",
   "metadata": {},
   "source": [
    "## 多线程爬取腾讯招聘技术类职位"
   ]
  },
  {
   "cell_type": "code",
   "execution_count": null,
   "metadata": {
    "collapsed": false
   },
   "outputs": [],
   "source": [
    "import requests\n",
    "from lxml import etree\n",
    "import csv\n",
    "import time\n",
    "import threading\n",
    "from queue import Queue\n",
    "\n",
    "\n",
    "def get_html(url):\n",
    "    headers = {\n",
    "        'User-Agent': 'Mozilla/5.0 (Macintosh; Intel Mac OS X 10_12_6) AppleWebKit/537.36 (KHTML, like Gecko) Chrome/64.0.3282.140 Safari/537.36'\n",
    "    }\n",
    "    res = requests.get(url, headers=headers)\n",
    "    return res\n",
    "    \n",
    "\n",
    "def get_position_link(page_url):\n",
    "    '''\n",
    "    @params: page_url:页面链接\n",
    "    @return：每个页面下的职位详情链接\n",
    "    '''\n",
    "    base_prefix = 'https://hr.tencent.com/'\n",
    "    res = get_html(page_url)\n",
    "    html = etree.HTML(res.text)\n",
    "    position_links = html.xpath('//tr[@class=\"even\" or @class=\"odd\"]//a/@href')\n",
    "    position_links = map(lambda x: base_prefix+x, position_links)\n",
    "    return position_links\n",
    "        \n",
    "def get_position_detail(detail_url):\n",
    "    position = {}\n",
    "    res = get_html(detail_url)\n",
    "    html = etree.HTML(res.text)\n",
    "    sharetitle = html.xpath('//tr[@class=\"h\"]/td/text()')[0]\n",
    "    position['岗位名称'] = sharetitle\n",
    "    location,job_type,numbers = html.xpath('//tr[contains(@class, \"bottomline\")]/td/text()')\n",
    "    position['工作地点'] = location\n",
    "    position['职位类型'] = job_type\n",
    "    position['招聘人数'] = numbers\n",
    "    \n",
    "    job_responsibility,job_requirements = html.xpath('//ul[@class=\"squareli\"]')\n",
    "    responsibility = job_responsibility.xpath('./li/text()')\n",
    "    requirements = job_requirements.xpath('./li/text()')\n",
    "    \n",
    "    position['工作职责'] = responsibility\n",
    "    position['工作要求'] = requirements\n",
    "    return position\n",
    "    \n",
    "def write2csv(position_list):\n",
    "    '''\n",
    "    将职位信息保存入csv文件\n",
    "    \n",
    "    因为职位信息是以字典形式保存的，所以采用DictWriter方法\n",
    "    '''\n",
    "#     headers = ['sharetitle','location', 'job_type', 'numbers', 'responsibility', 'requirements']\n",
    "    headers = ['岗位名称','工作地点', '职位类型', '招聘人数', '工作职责', '工作要求']\n",
    "\n",
    "    with open('tencent_position.csv', 'w', encoding='utf-8') as tencent:\n",
    "        writer = csv.DictWriter(tencent, headers)\n",
    "        writer.writeheader()\n",
    "        writer.writerows(position_list)\n",
    "    \n",
    "    \n",
    "        \n",
    "if __name__ == '__main__':\n",
    "    base_url = 'https://hr.tencent.com/position.php?lid=&tid=87&keywords=python&start=%d#a'\n",
    "    position_links_list = []\n",
    "    position_list = []\n",
    "    for x in range(5):\n",
    "        url = base_url % (x*10)\n",
    "        print('爬取第%d页: %s' %(x+1, url))\n",
    "        position_links = get_position_link(url)\n",
    "        position_links_list.extend(position_links)\n",
    "        time.sleep(1)\n",
    "        \n",
    "    for index, position_link in enumerate(position_links_list):\n",
    "        print('解析第%d个职位: %s' % (index+1, position_link))\n",
    "        position_list.append(get_position_detail(position_link))\n",
    "        time.sleep(0.5)\n",
    "        \n",
    "    write2csv(position_list)\n",
    "    "
   ]
  },
  {
   "cell_type": "code",
   "execution_count": null,
   "metadata": {
    "collapsed": true
   },
   "outputs": [],
   "source": []
  }
 ],
 "metadata": {
  "kernelspec": {
   "display_name": "Python 3",
   "language": "python",
   "name": "python3"
  },
  "language_info": {
   "codemirror_mode": {
    "name": "ipython",
    "version": 3
   },
   "file_extension": ".py",
   "mimetype": "text/x-python",
   "name": "python",
   "nbconvert_exporter": "python",
   "pygments_lexer": "ipython3",
   "version": "3.6.0"
  }
 },
 "nbformat": 4,
 "nbformat_minor": 2
}
