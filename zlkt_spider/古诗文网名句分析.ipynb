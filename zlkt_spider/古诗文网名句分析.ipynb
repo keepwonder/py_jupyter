{
 "cells": [
  {
   "cell_type": "markdown",
   "metadata": {},
   "source": [
    "## 古诗文网名句分析"
   ]
  },
  {
   "cell_type": "code",
   "execution_count": 19,
   "metadata": {
    "collapsed": false
   },
   "outputs": [],
   "source": [
    "from collections import Counter\n",
    "from pyecharts import Bar\n",
    "\n",
    "with open('poem_line.txt') as f:\n",
    "    poets = []\n",
    "    for line in f.readlines():\n",
    "        if '佚名' in line:\n",
    "            continue\n",
    "        line = line.split('——')\n",
    "        poet = line[1].split('《')[0]\n",
    "        poets.append(poet )\n",
    "count = Counter(poets)\n",
    "top_10 = count.most_common(10)\n",
    "poet_names = []\n",
    "numbers = []\n",
    "for v in top_10:\n",
    "    poet_name,number = v\n",
    "    poet_names.append(poet_name)\n",
    "    numbers.append(number)\n",
    "    \n",
    "\n",
    "bar = Bar('诗人排行版')\n",
    "bar.add(\"top10诗人\", poet_names, numbers)\n",
    "bar.\n",
    "# bar.show_config()\n",
    "bar.render('诗人排行版-根据诗句总数.html')\n",
    "    \n"
   ]
  },
  {
   "cell_type": "code",
   "execution_count": null,
   "metadata": {
    "collapsed": true
   },
   "outputs": [],
   "source": []
  }
 ],
 "metadata": {
  "kernelspec": {
   "display_name": "Python 3",
   "language": "python",
   "name": "python3"
  },
  "language_info": {
   "codemirror_mode": {
    "name": "ipython",
    "version": 3
   },
   "file_extension": ".py",
   "mimetype": "text/x-python",
   "name": "python",
   "nbconvert_exporter": "python",
   "pygments_lexer": "ipython3",
   "version": "3.6.0"
  }
 },
 "nbformat": 4,
 "nbformat_minor": 2
}
