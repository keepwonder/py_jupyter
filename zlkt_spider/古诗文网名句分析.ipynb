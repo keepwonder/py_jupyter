{
 "cells": [
  {
   "cell_type": "markdown",
   "metadata": {},
   "source": [
    "## 古诗文网名句分析"
   ]
  },
  {
   "cell_type": "code",
   "execution_count": null,
   "metadata": {
    "collapsed": false
   },
   "outputs": [],
   "source": [
    "'''\n",
    "名句分析：\n",
    "1，按名句数量统计前10位诗人\n",
    "2，统计所有名句使用字数最多的前50个汉字\n",
    "'''\n",
    "\n",
    "from collections import Counter\n",
    "from pyecharts import Bar\n",
    "import re\n",
    "\n",
    "with open('poem_line.txt') as f:\n",
    "    poets = []\n",
    "    verses = []\n",
    "    for line in f.readlines():\n",
    "        if '佚名' in line:\n",
    "            continue\n",
    "        line = line.split('——')\n",
    "        verse = line[0].split('，')\n",
    "        verses.append(''.join(verse))\n",
    "        poet = line[1].split('《')[0]\n",
    "        poets.append(poet)\n",
    "# print(re.sub(r'[。？]','',''.join(verses)) ) \n",
    "all_words = re.sub(r'[。？]','',''.join(verses)) \n",
    "\n",
    "# 用字分析,top50个字\n",
    "word_count = Counter(all_words)\n",
    "word_top50 = word_count.most_common(50)\n",
    "print(word_top50)\n",
    "# 诗人分析，前10位\n",
    "poet_count = Counter(poets)\n",
    "top_10 = poet_count.most_common(10)\n",
    "poet_names = []\n",
    "numbers = []\n",
    "for v in top_10:\n",
    "    poet_name,number = v\n",
    "    poet_names.append(poet_name)\n",
    "    numbers.append(number)\n",
    "    \n",
    "\n",
    "# 画图展示\n",
    "bar = Bar('诗人排行版')\n",
    "bar.add(\"top10诗人\", poet_names, numbers)\n",
    "# bar.show_config()\n",
    "bar.render('诗人排行版-根据诗句总数.html')\n",
    "    \n"
   ]
  },
  {
   "cell_type": "code",
   "execution_count": null,
   "metadata": {
    "collapsed": true
   },
   "outputs": [],
   "source": []
  }
 ],
 "metadata": {
  "kernelspec": {
   "display_name": "Python 3",
   "language": "python",
   "name": "python3"
  },
  "language_info": {
   "codemirror_mode": {
    "name": "ipython",
    "version": 3
   },
   "file_extension": ".py",
   "mimetype": "text/x-python",
   "name": "python",
   "nbconvert_exporter": "python",
   "pygments_lexer": "ipython3",
   "version": "3.6.0"
  }
 },
 "nbformat": 4,
 "nbformat_minor": 2
}
