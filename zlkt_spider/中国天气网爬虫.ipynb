{
 "cells": [
  {
   "cell_type": "markdown",
   "metadata": {},
   "source": [
    "## 中国天气网爬虫"
   ]
  },
  {
   "cell_type": "code",
   "execution_count": 3,
   "metadata": {
    "collapsed": false
   },
   "outputs": [
    {
     "name": "stdout",
     "output_type": "stream",
     "text": [
      "{'city_name': '香港', 'min_temp': '14'}\n",
      "{'city_name': '省/直辖市', 'min_temp': '周三(2月14日)夜间'}\n",
      "{'city_name': '天气现象', 'min_temp': '风向风力'}\n",
      "{'city_name': '澳门', 'min_temp': '16'}\n",
      "{'city_name': '省/直辖市', 'min_temp': '周三(2月14日)夜间'}\n",
      "{'city_name': '天气现象', 'min_temp': '风向风力'}\n",
      "{'city_name': '台湾', 'min_temp': '14'}\n",
      "{'city_name': '高雄', 'min_temp': '17'}\n",
      "{'city_name': '台中', 'min_temp': '14'}\n"
     ]
    }
   ],
   "source": [
    "import requests\n",
    "from bs4 import BeautifulSoup\n",
    "from pyecharts import Bar\n",
    "\n",
    "def parse_page(url):\n",
    "    headers = {\n",
    "            'User-Agent':'Mozilla/5.0 (Macintosh; Intel Mac OS X 10_12_6) AppleWebKit/537.36 (KHTML, like Gecko) Chrome/64.0.3282.140 Safari/537.36'\n",
    "        }\n",
    "    res = requests.get(url, headers=headers).content\n",
    "    soup = BeautifulSoup(res, 'lxml')\n",
    "    provinces = soup.find('div', class_='conMidtab')\n",
    "    provinces = provinces.find_all('div', class_='conMidtab2')\n",
    "    infos = []\n",
    "    for province in provinces:\n",
    "        cities = province.find_all('tr')[2:]\n",
    "        for index, city in enumerate(cities):\n",
    "            tds = city.find_all('td')\n",
    "            info = {}\n",
    "            city_td = tds[0]\n",
    "            if index == 0:\n",
    "                city_td = tds[1]\n",
    "            city_name = list(city_td.stripped_strings)[0]\n",
    "            min_temp = list(tds[-2].stripped_strings)[0]\n",
    "            info['city_name'] = city_name\n",
    "            info['min_temp'] = min_temp\n",
    "            print(info)\n",
    "            infos.append(info)\n",
    "            \n",
    "            \n",
    "    return infos\n",
    "        \n",
    "        \n",
    "\n",
    "def main():\n",
    "    short_names = ['hb', 'db','hd', 'hz', 'hn', 'xb', 'xn']\n",
    "    cities = []\n",
    "    for sname in short_names:\n",
    "        url = 'http://www.weather.com.cn/textFC/%s.shtml' % sname\n",
    "        cities.extend(parse_page(url))\n",
    "#         break\n",
    "    \n",
    "#     for city in cities:\n",
    "#         print(city)\n",
    "        \n",
    "    cities.sort(key=lambda x: int(x['min_temp'])) \n",
    "    min_temp_10 = cities[:10]\n",
    "    bar = Bar('中国天气网气温排行版','最低前10版')\n",
    "    city_names = []\n",
    "    min_temps = []\n",
    "    for city in min_temp_10:\n",
    "        city_names.append(city['city_name'])\n",
    "        min_temps.append(city['min_temp'])\n",
    "    bar.add('最低前10城市', city_names, min_temps)\n",
    "    bar.render('中国天气排行版.html')\n",
    "    print(city_names, min_temps)\n",
    "    print(cities[:10])\n",
    "    \n",
    "if __name__ == '__main__':\n",
    "#     main()\n",
    "    url = 'http://www.weather.com.cn/textFC/gat.shtml'\n",
    "    parse_page(url)"
   ]
  },
  {
   "cell_type": "code",
   "execution_count": null,
   "metadata": {
    "collapsed": true
   },
   "outputs": [],
   "source": []
  }
 ],
 "metadata": {
  "kernelspec": {
   "display_name": "Python 3",
   "language": "python",
   "name": "python3"
  },
  "language_info": {
   "codemirror_mode": {
    "name": "ipython",
    "version": 3
   },
   "file_extension": ".py",
   "mimetype": "text/x-python",
   "name": "python",
   "nbconvert_exporter": "python",
   "pygments_lexer": "ipython3",
   "version": "3.6.0"
  }
 },
 "nbformat": 4,
 "nbformat_minor": 2
}
