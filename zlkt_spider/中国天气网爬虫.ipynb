{
 "cells": [
  {
   "cell_type": "markdown",
   "metadata": {},
   "source": [
    "## 中国天气网爬虫"
   ]
  },
  {
   "cell_type": "code",
   "execution_count": 83,
   "metadata": {
    "collapsed": false
   },
   "outputs": [
    {
     "name": "stdout",
     "output_type": "stream",
     "text": [
      "['呼伦贝尔', '锡林郭勒', '兴安盟', '大同', '乌兰察布', '包头', '通辽', '赤峰', '朔州', '内蒙古'] ['-30', '-21', '-16', '-14', '-14', '-13', '-13', '-13', '-12', '-12']\n",
      "[{'city_name': '呼伦贝尔', 'min_temp': '-30'}, {'city_name': '锡林郭勒', 'min_temp': '-21'}, {'city_name': '兴安盟', 'min_temp': '-16'}, {'city_name': '大同', 'min_temp': '-14'}, {'city_name': '乌兰察布', 'min_temp': '-14'}, {'city_name': '包头', 'min_temp': '-13'}, {'city_name': '通辽', 'min_temp': '-13'}, {'city_name': '赤峰', 'min_temp': '-13'}, {'city_name': '朔州', 'min_temp': '-12'}, {'city_name': '内蒙古', 'min_temp': '-12'}]\n"
     ]
    }
   ],
   "source": [
    "import requests\n",
    "from bs4 import BeautifulSoup\n",
    "from pyecharts import Bar\n",
    "\n",
    "def parse_page(url):\n",
    "    headers = {\n",
    "            'User-Agent':'Mozilla/5.0 (Macintosh; Intel Mac OS X 10_12_6) AppleWebKit/537.36 (KHTML, like Gecko) Chrome/64.0.3282.140 Safari/537.36'\n",
    "        }\n",
    "    res = requests.get(url, headers=headers).content\n",
    "    soup = BeautifulSoup(res, 'lxml')\n",
    "    provinces = soup.find('div', class_='conMidtab')\n",
    "    provinces = provinces.find_all('div', class_='conMidtab2')\n",
    "    infos = []\n",
    "    for province in provinces:\n",
    "        cities = province.find_all('tr')[2:]\n",
    "        for city in cities:\n",
    "            info = {}\n",
    "            tds = city.find_all('td')\n",
    "            city_name = list(tds[0].strings)[1]\n",
    "            min_temp = tds[-2].string\n",
    "            info['city_name'] = city_name\n",
    "            info['min_temp'] = min_temp\n",
    "            infos.append(info)\n",
    "            \n",
    "            \n",
    "    return infos\n",
    "        \n",
    "        \n",
    "\n",
    "def main():\n",
    "    short_names = ['hb', 'db','hd', 'hz', 'hn', 'xb', 'xn']\n",
    "    cities = []\n",
    "    for sname in short_names:\n",
    "        url = 'http://www.weather.com.cn/textFC/%s.shtml' % sname\n",
    "        cities.extend(parse_page(url))\n",
    "        break\n",
    "    \n",
    "#     for city in cities:\n",
    "#         print(city)\n",
    "        \n",
    "    cities.sort(key=lambda x: int(x['min_temp'])) \n",
    "    min_temp_10 = cities[:10]\n",
    "    bar = Bar('中国天气网气温排行版','最低前10版')\n",
    "    city_names = []\n",
    "    min_temps = []\n",
    "    for city in min_temp_10:\n",
    "        city_names.append(city['city_name'])\n",
    "        min_temps.append(city['min_temp'])\n",
    "    bar.add('最低前10城市', city_names, min_temps)\n",
    "    bar.render('中国天气排行版.html')\n",
    "    print(city_names, min_temps)\n",
    "    print(cities[:10])\n",
    "    \n",
    "if __name__ == '__main__':\n",
    "    main()\n",
    "#     url = 'http://www.weather.com.cn/textFC/gat.shtml'\n",
    "#     parse_page(url)"
   ]
  },
  {
   "cell_type": "code",
   "execution_count": null,
   "metadata": {
    "collapsed": true
   },
   "outputs": [],
   "source": []
  }
 ],
 "metadata": {
  "kernelspec": {
   "display_name": "Python 3",
   "language": "python",
   "name": "python3"
  },
  "language_info": {
   "codemirror_mode": {
    "name": "ipython",
    "version": 3
   },
   "file_extension": ".py",
   "mimetype": "text/x-python",
   "name": "python",
   "nbconvert_exporter": "python",
   "pygments_lexer": "ipython3",
   "version": "3.6.0"
  }
 },
 "nbformat": 4,
 "nbformat_minor": 2
}
