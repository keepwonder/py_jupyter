{
 "cells": [
  {
   "cell_type": "markdown",
   "metadata": {},
   "source": [
    "# urllib的使用"
   ]
  },
  {
   "cell_type": "code",
   "execution_count": null,
   "metadata": {
    "collapsed": true
   },
   "outputs": [],
   "source": [
    "from urllib import request\n",
    "from urllib import parse"
   ]
  },
  {
   "cell_type": "markdown",
   "metadata": {},
   "source": [
    "### request.urlopen函数"
   ]
  },
  {
   "cell_type": "code",
   "execution_count": null,
   "metadata": {
    "collapsed": false
   },
   "outputs": [],
   "source": [
    "res = request.urlopen('http://www.baidu.com')\n",
    "# print(res)\n",
    "# print(res.read(100))\n",
    "# print(res.readline())\n",
    "# print(res.readlines())\n",
    "print(res.getcode())"
   ]
  },
  {
   "cell_type": "markdown",
   "metadata": {},
   "source": [
    "### request.urlretrive函数"
   ]
  },
  {
   "cell_type": "code",
   "execution_count": null,
   "metadata": {
    "collapsed": true
   },
   "outputs": [],
   "source": [
    "# 将文件下载到本地\n",
    "res = request.urlretrieve('https://timgsa.baidu.com/timg?image&quality=80&size=b9999_10000&sec=1518243050608&di=647c86be5e4b6661c5235584164d236a&imgtype=0&src=http%3A%2F%2Fstatic.open-open.com%2Flib%2FuploadImg%2F20160623%2F20160623173015_416.png','python.png')\n"
   ]
  },
  {
   "cell_type": "markdown",
   "metadata": {},
   "source": [
    "### parse.urlencode函数"
   ]
  },
  {
   "cell_type": "code",
   "execution_count": null,
   "metadata": {
    "collapsed": false
   },
   "outputs": [],
   "source": [
    "# 将查询字符串编码\n",
    "data = {'name':'jone', 'age':18, 'key':'哈哈'}\n",
    "req = parse.urlencode(data)\n",
    "print(req)"
   ]
  },
  {
   "cell_type": "markdown",
   "metadata": {},
   "source": [
    "### parse.parse_qs函数"
   ]
  },
  {
   "cell_type": "code",
   "execution_count": null,
   "metadata": {
    "collapsed": false
   },
   "outputs": [],
   "source": [
    "# 解码\n",
    "params = 'name=jone&age=18&key=%E5%93%88%E5%93%88'\n",
    "res = parse.parse_qs(params)\n",
    "print(res)"
   ]
  },
  {
   "cell_type": "markdown",
   "metadata": {},
   "source": [
    "### parse.urlparse函数和parse.urlsplit函数"
   ]
  },
  {
   "cell_type": "code",
   "execution_count": null,
   "metadata": {
    "collapsed": false
   },
   "outputs": [],
   "source": [
    "'''\n",
    "urlparse和urlsplit的区别在于前者多了一个params字段\n",
    "'''\n",
    "\n",
    "url = 'https://baike.baidu.com/item/%E5%88%98%E5%BE%B7%E5%8D%8E/114923?fr=aladdin#4'\n",
    "url_parsed = parse.urlparse(url)\n",
    "url_splitted = parse.urlsplit(url)\n",
    "print(url_parsed)\n",
    "print(url_splitted)\n",
    "\n",
    "print('scheme: ',url_parsed.scheme)  # 协议\n",
    "print('netloc: ',url_parsed.netloc) # 主机\n",
    "print('path: ',url_parsed.path) # 路径\n",
    "print('params:', url_parsed.params) # 参数\n",
    "print('query: ',url_parsed.query) # 查询字符串\n",
    "print('fragment: ',url_parsed.fragment) # 锚点"
   ]
  },
  {
   "cell_type": "markdown",
   "metadata": {},
   "source": [
    "## request.Request类"
   ]
  },
  {
   "cell_type": "code",
   "execution_count": null,
   "metadata": {
    "collapsed": false
   },
   "outputs": [],
   "source": [
    "## 网易-21天搞定Python分布式爬虫的课程时间爬取\n",
    "url = 'http://study.163.com/course/courseMain.htm?courseId=1004530011'\n",
    "headers = {\n",
    "    'User-Agent':'Mozilla/5.0 (Macintosh; Intel Mac OS X 10_12_6) AppleWebKit/537.36 (KHTML, like Gecko) Chrome/64.0.3282.140 Safari/537.36'\n",
    "}\n",
    "    \n",
    "req = request.Request(url=url, headers=headers)\n",
    "res = request.urlopen(req)\n",
    "print(res.read().decode('utf-8'))"
   ]
  },
  {
   "cell_type": "markdown",
   "metadata": {},
   "source": [
    "### ProxyHandler实现代理ip"
   ]
  },
  {
   "cell_type": "code",
   "execution_count": null,
   "metadata": {
    "collapsed": false
   },
   "outputs": [],
   "source": [
    "# 打印ip\n",
    "# 1.不使用代理\n",
    "from urllib import request\n",
    "\n",
    "url = 'http://httpbin.org/ip'\n",
    "res = request.urlopen(url)\n",
    "print(res.read())"
   ]
  },
  {
   "cell_type": "code",
   "execution_count": null,
   "metadata": {
    "collapsed": false
   },
   "outputs": [],
   "source": [
    "# 2.使用代理ip\n",
    "url = 'http://httpbin.org/ip'\n",
    "handler = request.ProxyHandler({'http':'125.62.26.75:3128'})\n",
    "opener = request.build_opener(handler)\n",
    "res = opener.open(url)\n",
    "print(res.read().decode('utf-8'))"
   ]
  },
  {
   "cell_type": "markdown",
   "metadata": {},
   "source": [
    "### cookie原理和格式详解"
   ]
  },
  {
   "cell_type": "markdown",
   "metadata": {},
   "source": [
    "### cookie模拟登陆"
   ]
  },
  {
   "cell_type": "code",
   "execution_count": null,
   "metadata": {
    "collapsed": false
   },
   "outputs": [],
   "source": [
    "url = 'https://www.zhihu.com/people/dongweiming/activities'\n",
    "headers = {\n",
    "    'User-Agent':'Mozilla/5.0 (Macintosh; Intel Mac OS X 10_12_6) AppleWebKit/537.36 (KHTML, like Gecko) Chrome/64.0.3282.140 Safari/537.36',\n",
    "    'Cookie':'aliyungf_tc=AQAAAOE+UkOgRAcAUAGVJFyNtgcs8BOS; _xsrf=c893ffe8-1bc0-47aa-95b4-ab745c054359; q_c1=0259a2f67ae54672b2a28b19ad69d643|1518194651000|1518194651000; _zap=48fddaf8-ccc6-42f7-8613-e44cba958624; l_n_c=1; l_cap_id=\"NWEyMGNhYWRiNzgyNDNlZTg1ZWJlOGM5OGJkNzNiOGI=|1518194662|f4818b3fc24e6f813232e2b85fec112288e81aa5\"; r_cap_id=\"M2ZhYmUxY2Y4ODM0NDNmMjk1YTJhMTk0YmE4YzllYzc=|1518194662|b93763fa01087d737463d7f81ba4b034f16908c5\"; cap_id=\"N2UyNjcwMjFkYWUzNDJlNGI5MGNiYWU0NzBmZGFkMWI=|1518194662|550530e0881ca892c4b113c7ecae4e74675aa257\"; n_c=1; capsion_ticket=\"2|1:0|10:1518245684|14:capsion_ticket|44:ODlmYzhmZmExYzA1NDYxMTkyYjZjOTZkMTRhMWU4ODU=|4228c34ccb8bfe0388b85b479fb2b79e14107fc1390dbb27b2458d944ea993ee\"; z_c0=\"2|1:0|10:1518245692|4:z_c0|80:MS4xck10QUFBQUFBQUFtQUFBQVlBSlZUVHpsYTF0Z1VzRVFZTjlXQzVoeUtNWGVkZUp6V29OcjFBPT0=|10e33992ac2287194b1f03bd0c03aa45c88f6fa4e3b334459340d455f4daef30\"; d_c0=\"APAs2FyzHw2PTgJP-mzSK_PMGxkaSI4r4f0=|1518245693\"'\n",
    "}\n",
    "req = request.Request(url, headers=headers)\n",
    "res = request.urlopen(req)\n",
    "# print(res.read().decode('utf-8'))\n",
    "with open('dwm.html', 'w') as f:\n",
    "    f.write(res.read().decode('utf-8'))"
   ]
  },
  {
   "cell_type": "markdown",
   "metadata": {},
   "source": [
    "### 保存cookie"
   ]
  },
  {
   "cell_type": "code",
   "execution_count": 17,
   "metadata": {
    "collapsed": true
   },
   "outputs": [],
   "source": [
    "from urllib import request\n",
    "from http.cookiejar import CookieJar, MozillaCookieJar\n",
    "\n",
    "cookiejar = MozillaCookieJar('cookie.txt')\n",
    "builder = request.HTTPCookieProcessor(cookiejar)\n",
    "opener = request.build_opener(builder)\n",
    "\n",
    "# res = opener.open('http://www.baidu.com')\n",
    "# cookiejar.save()\n",
    "\n",
    "res = opener.open('http://httpbin.org/cookies/set?course=spyder')\n",
    "cookiejar.save(ignore_discard=True, ignore_expires=True)"
   ]
  },
  {
   "cell_type": "markdown",
   "metadata": {},
   "source": [
    "### 读取cookie"
   ]
  },
  {
   "cell_type": "code",
   "execution_count": 18,
   "metadata": {
    "collapsed": false
   },
   "outputs": [
    {
     "name": "stdout",
     "output_type": "stream",
     "text": [
      "<Cookie course=spyder for httpbin.org/>\n"
     ]
    }
   ],
   "source": [
    "cookiejar.load(ignore_discard=True)\n",
    "for cookie in cookiejar:\n",
    "    print(cookie)"
   ]
  },
  {
   "cell_type": "code",
   "execution_count": null,
   "metadata": {
    "collapsed": true
   },
   "outputs": [],
   "source": []
  }
 ],
 "metadata": {
  "kernelspec": {
   "display_name": "Python 3",
   "language": "python",
   "name": "python3"
  },
  "language_info": {
   "codemirror_mode": {
    "name": "ipython",
    "version": 3
   },
   "file_extension": ".py",
   "mimetype": "text/x-python",
   "name": "python",
   "nbconvert_exporter": "python",
   "pygments_lexer": "ipython3",
   "version": "3.6.0"
  }
 },
 "nbformat": 4,
 "nbformat_minor": 2
}
