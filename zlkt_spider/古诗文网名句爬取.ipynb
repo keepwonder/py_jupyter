{
 "cells": [
  {
   "cell_type": "markdown",
   "metadata": {},
   "source": [
    "## 爬取名句"
   ]
  },
  {
   "cell_type": "code",
   "execution_count": null,
   "metadata": {
    "collapsed": false
   },
   "outputs": [],
   "source": [
    "import requests\n",
    "import re\n",
    "import csv\n",
    "\n",
    "def parse_page(url):\n",
    "    headers = {\n",
    "        'User-Agent':'Mozilla/5.0 (Macintosh; Intel Mac OS X 10_12_6) AppleWebKit/537.36 (KHTML, like Gecko) Chrome/64.0.3282.140 Safari/537.36'\n",
    "    }\n",
    "    res = requests.get(url , headers=headers)\n",
    "    text = res.text\n",
    "    \n",
    "    line = re.findall(r'<div class=\"cont\" style.*?<a.*?>(.*?)</a>', text, re.S)\n",
    "    from_poem = re.findall(r'<div class=\"cont\" style.*?<a.*?<a.*?>(.*?)</a>', text, re.S)\n",
    "    for line in zip(line, from_poem):\n",
    "        with open('poem_line.txt','a') as f:\n",
    "            f.write('——'.join(line)+'\\n')\n",
    "    \n",
    "    \n",
    "def main():\n",
    "    for i in range(1, 117):\n",
    "        url = 'http://so.gushiwen.org/mingju/Default.aspx?p=%s&c=&t=' % i\n",
    "        parse_page(url)\n",
    "    \n",
    "if __name__ == '__main__':\n",
    "    main()"
   ]
  },
  {
   "cell_type": "code",
   "execution_count": null,
   "metadata": {
    "collapsed": true
   },
   "outputs": [],
   "source": []
  }
 ],
 "metadata": {
  "kernelspec": {
   "display_name": "Python 3",
   "language": "python",
   "name": "python3"
  },
  "language_info": {
   "codemirror_mode": {
    "name": "ipython",
    "version": 3
   },
   "file_extension": ".py",
   "mimetype": "text/x-python",
   "name": "python",
   "nbconvert_exporter": "python",
   "pygments_lexer": "ipython3",
   "version": "3.6.0"
  }
 },
 "nbformat": 4,
 "nbformat_minor": 2
}
