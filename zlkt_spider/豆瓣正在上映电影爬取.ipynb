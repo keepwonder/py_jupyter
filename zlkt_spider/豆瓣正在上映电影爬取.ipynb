{
 "cells": [
  {
   "cell_type": "markdown",
   "metadata": {},
   "source": [
    "## 豆瓣正在上映电影爬取"
   ]
  },
  {
   "cell_type": "code",
   "execution_count": 12,
   "metadata": {
    "collapsed": true
   },
   "outputs": [],
   "source": [
    "import requests\n",
    "from lxml import etree"
   ]
  },
  {
   "cell_type": "code",
   "execution_count": 61,
   "metadata": {
    "collapsed": false
   },
   "outputs": [
    {
     "name": "stdout",
     "output_type": "stream",
     "text": [
      "27\n",
      "{'title': '神秘巨星', 'score': '7.9', 'region': '印度', 'director': '阿德瓦·香登', 'img': 'https://img3.doubanio.com/view/photo/s_ratio_poster/public/p2508925590.jpg'}\n",
      "{'title': '龙凤斗', 'score': '6.7', 'region': '香港', 'director': '杜琪峰', 'img': 'https://img3.doubanio.com/view/photo/s_ratio_poster/public/p2512320221.jpg'}\n",
      "{'title': '南极之恋', 'score': '6.9', 'region': '中国大陆', 'director': '吴有音', 'img': 'https://img1.doubanio.com/view/photo/s_ratio_poster/public/p2511935678.jpg'}\n",
      "{'title': '泡芙小姐', 'score': '3.8', 'region': '中国大陆', 'director': '张歆艺', 'img': 'https://img3.doubanio.com/view/photo/s_ratio_poster/public/p2508918510.jpg'}\n",
      "{'title': '小马宝莉大电影', 'score': '7.0', 'region': '美国 加拿大', 'director': '杰森·西森', 'img': 'https://img1.doubanio.com/view/photo/s_ratio_poster/public/p2512418397.jpg'}\n",
      "{'title': '马戏之王', 'score': '7.8', 'region': '美国', 'director': '迈克尔·格雷西', 'img': 'https://img3.doubanio.com/view/photo/s_ratio_poster/public/p2511346392.jpg'}\n",
      "{'title': '无问西东', 'score': '7.6', 'region': '中国大陆', 'director': '李芳芳', 'img': 'https://img3.doubanio.com/view/photo/s_ratio_poster/public/p2507572275.jpg'}\n",
      "{'title': '金龟子', 'score': '0', 'region': '中国大陆', 'director': '丁实', 'img': 'https://img3.doubanio.com/view/photo/s_ratio_poster/public/p2512888662.jpg'}\n",
      "{'title': '移动迷宫3：死亡解药', 'score': '5.4', 'region': '美国', 'director': '韦斯·鲍尔', 'img': 'https://img3.doubanio.com/view/photo/s_ratio_poster/public/p2508618114.jpg'}\n",
      "{'title': '公牛历险记', 'score': '7.4', 'region': '美国', 'director': '卡洛斯·沙尔丹哈', 'img': 'https://img3.doubanio.com/view/photo/s_ratio_poster/public/p2510825300.jpg'}\n",
      "{'title': '奇迹男孩', 'score': '8.6', 'region': '美国 香港', 'director': '斯蒂芬·卓博斯基', 'img': 'https://img1.doubanio.com/view/photo/s_ratio_poster/public/p2507709428.jpg'}\n",
      "{'title': '忌日快乐', 'score': '7.1', 'region': '美国', 'director': '克里斯托弗·兰登', 'img': 'https://img3.doubanio.com/view/photo/s_ratio_poster/public/p2510057340.jpg'}\n",
      "{'title': '浪矢解忧杂货店', 'score': '7.3', 'region': '日本', 'director': '广木隆一', 'img': 'https://img3.doubanio.com/view/photo/s_ratio_poster/public/p2511434383.jpg'}\n",
      "{'title': '无迹可寻', 'score': '0', 'region': '中国大陆', 'director': '张帆', 'img': 'https://img1.doubanio.com/view/photo/s_ratio_poster/public/p2510815449.jpg'}\n",
      "{'title': '狗狗的疯狂假期', 'score': '6.5', 'region': '西班牙 加拿大', 'director': '阿尔贝托·罗德里格 纳乔·拉·卡萨', 'img': 'https://img3.doubanio.com/view/photo/s_ratio_poster/public/p2510329872.jpg'}\n",
      "{'title': '大导归来', 'score': '0', 'region': '中国大陆', 'director': '李诚儒', 'img': 'https://img3.doubanio.com/view/photo/s_ratio_poster/public/p2510813842.jpg'}\n",
      "{'title': '前任3：再见前任', 'score': '5.8', 'region': '中国大陆', 'director': '田羽生', 'img': 'https://img1.doubanio.com/view/photo/s_ratio_poster/public/p2508926717.jpg'}\n",
      "{'title': '勇敢者游戏：决战丛林', 'score': '7.2', 'region': '美国', 'director': '杰克·卡斯丹', 'img': 'https://img3.doubanio.com/view/photo/s_ratio_poster/public/p2506258944.jpg'}\n",
      "{'title': '疯狂熊孩子', 'score': '0', 'region': '中国大陆', 'director': '李振', 'img': 'https://img3.doubanio.com/view/photo/s_ratio_poster/public/p2510866105.jpg'}\n",
      "{'title': '芳华', 'score': '7.8', 'region': '中国大陆', 'director': '冯小刚', 'img': 'https://img3.doubanio.com/view/photo/s_ratio_poster/public/p2507227732.jpg'}\n",
      "{'title': '麦兵兵之夺宝联“萌”', 'score': '0', 'region': '中国大陆', 'director': '胡鹤译', 'img': 'https://img3.doubanio.com/view/photo/s_ratio_poster/public/p2511436534.jpg'}\n",
      "{'title': '小狗奶瓶', 'score': '0', 'region': '中国大陆', 'director': '彭力', 'img': 'https://img1.doubanio.com/view/photo/s_ratio_poster/public/p2512061207.jpg'}\n",
      "{'title': '盲·道', 'score': '4.9', 'region': '中国大陆', 'director': '李杨', 'img': 'https://img1.doubanio.com/view/photo/s_ratio_poster/public/p2512138549.jpg'}\n",
      "{'title': '莫斯科陷落', 'score': '4.9', 'region': '俄罗斯', 'director': '费奥多尔·邦达尔丘克', 'img': 'https://img3.doubanio.com/view/photo/s_ratio_poster/public/p2412059661.jpg'}\n",
      "{'title': '谜巢', 'score': '4.2', 'region': '中国大陆 澳大利亚', 'director': '金波·兰道', 'img': 'https://img3.doubanio.com/view/photo/s_ratio_poster/public/p2510144625.jpg'}\n",
      "{'title': '热血时代', 'score': '0', 'region': '中国大陆', 'director': '回宇', 'img': 'https://img3.doubanio.com/view/photo/s_ratio_poster/public/p2505161765.jpg'}\n",
      "{'title': '至爱梵高·星空之谜', 'score': '8.5', 'region': '英国 波兰', 'director': '多洛塔·科别拉 休·韦尔什曼', 'img': 'https://img1.doubanio.com/view/photo/s_ratio_poster/public/p2506935748.jpg'}\n"
     ]
    }
   ],
   "source": [
    "url = 'https://movie.douban.com/cinema/nowplaying/nanjing/'\n",
    "headers = {\n",
    "    'User-Agent':'Mozilla/5.0 (Macintosh; Intel Mac OS X 10_12_6) AppleWebKit/537.36 (KHTML, like Gecko) Chrome/64.0.3282.140 Safari/537.36'\n",
    "}\n",
    "\n",
    "res = requests.get(url, headers=headers)\n",
    "# print(res.text)\n",
    "\n",
    "html = etree.HTML(res.text)\n",
    "# print(type(html))\n",
    "# print(html.xpath)\n",
    "\n",
    "movie_list = []\n",
    "nowplaying_list = html.xpath('//div[@id=\"nowplaying\"]//ul')[0]\n",
    "print(len(nowplaying_list))\n",
    "for movie in nowplaying_list.xpath('./li'):\n",
    "    title = movie.xpath('@data-title')[0]\n",
    "#     print(name)\n",
    "    score = movie.xpath('@data-score')[0]\n",
    "    region = movie.xpath('@data-region')[0]\n",
    "    director = movie.xpath('@data-director')[0]\n",
    "    img = movie.xpath('.//img/@src')[0]\n",
    "#     print(name, score)\n",
    "    mv = {\n",
    "        'title': title,\n",
    "        'score':score,\n",
    "        'region':region,\n",
    "        'director':director,\n",
    "        'img':img\n",
    "    }\n",
    "\n",
    "    movie_list.append(mv)\n",
    "    \n",
    "for movie in movie_list:\n",
    "    print(movie)"
   ]
  },
  {
   "cell_type": "code",
   "execution_count": null,
   "metadata": {
    "collapsed": true
   },
   "outputs": [],
   "source": []
  }
 ],
 "metadata": {
  "kernelspec": {
   "display_name": "Python 3",
   "language": "python",
   "name": "python3"
  },
  "language_info": {
   "codemirror_mode": {
    "name": "ipython",
    "version": 3
   },
   "file_extension": ".py",
   "mimetype": "text/x-python",
   "name": "python",
   "nbconvert_exporter": "python",
   "pygments_lexer": "ipython3",
   "version": "3.6.0"
  }
 },
 "nbformat": 4,
 "nbformat_minor": 2
}
