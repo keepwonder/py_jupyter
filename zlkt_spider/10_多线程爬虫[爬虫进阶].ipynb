{
 "cells": [
  {
   "cell_type": "markdown",
   "metadata": {},
   "source": [
    "## 多线程爬虫 "
   ]
  },
  {
   "cell_type": "code",
   "execution_count": null,
   "metadata": {
    "collapsed": false
   },
   "outputs": [],
   "source": [
    "# 传统运行代码\n",
    "import time\n",
    "\n",
    "def coding():\n",
    "    for x in range(3):\n",
    "        print('coding:',x)\n",
    "        time.sleep(1)\n",
    "\n",
    "def drawing():\n",
    "    for x in range(3):\n",
    "        print('drawing:',x)\n",
    "        time.sleep(1)\n",
    "        \n",
    "if __name__ == '__main__':\n",
    "    coding()\n",
    "    drawing()"
   ]
  },
  {
   "cell_type": "code",
   "execution_count": null,
   "metadata": {
    "collapsed": false
   },
   "outputs": [],
   "source": [
    "# 多线程方式\n",
    "import threading\n",
    "import time\n",
    "\n",
    "def coding():\n",
    "    for x in range(3):\n",
    "        print('coding:',threading.current_thread())\n",
    "        time.sleep(1)\n",
    "\n",
    "def drawing():\n",
    "    for x in range(3):\n",
    "        print('drawing:',threading.current_thread())\n",
    "        time.sleep(1)\n",
    "        \n",
    "def main():\n",
    "    t1 = threading.Thread(target=coding)\n",
    "    t2 = threading.Thread(target=drawing)\n",
    "    \n",
    "    t1.start()\n",
    "    t2.start()\n",
    "    \n",
    "    print(threading.enumerate())\n",
    "        \n",
    "if __name__ == '__main__':\n",
    "    main()"
   ]
  },
  {
   "cell_type": "code",
   "execution_count": null,
   "metadata": {
    "collapsed": true
   },
   "outputs": [],
   "source": [
    "## 继承threading.Thread类"
   ]
  },
  {
   "cell_type": "code",
   "execution_count": null,
   "metadata": {
    "collapsed": false
   },
   "outputs": [],
   "source": [
    "import threading\n",
    "import time\n",
    "\n",
    "class Coding(threading.Thread):\n",
    "    def run(self):\n",
    "        for x in range(3):\n",
    "            print('%s正在Coding...' % threading.current_thread())\n",
    "            time.sleep(1)\n",
    "\n",
    "class Drawing(threading.Thread):\n",
    "    def run(self):\n",
    "        for x in range(3):\n",
    "            print('%s正在Drawing...' % threading.current_thread())\n",
    "            time.sleep(1)\n",
    "            \n",
    "def main():\n",
    "    t1 = Coding()\n",
    "    t2 =Drawing()\n",
    "    t1.start()\n",
    "    t2.start()\n",
    "    \n",
    "if __name__ == '__main__':\n",
    "    main()"
   ]
  },
  {
   "cell_type": "markdown",
   "metadata": {},
   "source": [
    "## 多线程共享全局变量的问题"
   ]
  },
  {
   "cell_type": "code",
   "execution_count": null,
   "metadata": {
    "collapsed": false
   },
   "outputs": [],
   "source": [
    "import threading\n",
    "\n",
    "value = 0\n",
    "\n",
    "# 在需要修改全局变量的地方加锁\n",
    "g_lock  = threading.Lock()\n",
    "\n",
    "def add_val():\n",
    "    global value\n",
    "    g_lock.acquire()\n",
    "    for x in range(1000000):\n",
    "        value += 1\n",
    "    g_lock.release()\n",
    "    print('Value: ', value)\n",
    "    \n",
    "def main():\n",
    "    for x in range(2):\n",
    "        t = threading.Thread(target=add_val)\n",
    "        t.start()\n",
    "    \n",
    "if __name__ == '__main__':\n",
    "    main()\n",
    "\n"
   ]
  },
  {
   "cell_type": "markdown",
   "metadata": {},
   "source": [
    "## Lock版本生产者和消费者模式"
   ]
  },
  {
   "cell_type": "code",
   "execution_count": null,
   "metadata": {
    "collapsed": false
   },
   "outputs": [],
   "source": [
    "import threading\n",
    "import random\n",
    "import time\n",
    "\n",
    "gMoney = 1000\n",
    "gLock = threading.Lock()\n",
    "\n",
    "gTotalTimes = 10\n",
    "gTimes = 0\n",
    "\n",
    "class Producer(threading.Thread):\n",
    "    def run(self):\n",
    "        global gMoney\n",
    "        global gTimes\n",
    "        while True:\n",
    "            money = random.randint(100, 1000)\n",
    "            gLock.acquire()\n",
    "            if gTimes >= gTotalTimes:\n",
    "                gLock.release()\n",
    "                break\n",
    "            gMoney += money\n",
    "            gTimes += 1\n",
    "            print('%s生产者第%d次生产了%d元， 剩余%d元' % (threading.current_thread(),gTimes, money, gMoney))\n",
    "            \n",
    "            gLock.release()\n",
    "            time.sleep(0.5)\n",
    "        \n",
    "    \n",
    "class Consumer(threading.Thread):\n",
    "    def run(self):\n",
    "        global gMoney \n",
    "        while True:\n",
    "            money = random.randint(100, 1000)\n",
    "            gLock.acquire()\n",
    "            if gMoney >= money:\n",
    "                gMoney -= money\n",
    "                print('%s消费者第消费了%d元，剩余%d元' % (threading.current_thread(), money, gMoney))\n",
    "            else:\n",
    "                if gTimes >= gTotalTimes:\n",
    "                    gLock.release()\n",
    "                    break\n",
    "                print('余额不足，需要消费%d元，仅剩%d元' % (money, gMoney))\n",
    "            gLock.release()\n",
    "            time.sleep(0.5)\n",
    "    \n",
    "def main():\n",
    "    for x in range(3):\n",
    "        t1 = Consumer(name='消费者%s' % x)\n",
    "        t1.start()\n",
    "        \n",
    "    for x in range(5):\n",
    "        t2 = Producer(name='生产者%s' % x)\n",
    "        t2.start()\n",
    "        \n",
    "if __name__ == '__main__':\n",
    "    main()"
   ]
  },
  {
   "cell_type": "markdown",
   "metadata": {},
   "source": [
    "## Condition版本的生产者和消费者模式"
   ]
  },
  {
   "cell_type": "code",
   "execution_count": null,
   "metadata": {
    "collapsed": false
   },
   "outputs": [],
   "source": [
    "import threading\n",
    "import random\n",
    "import time\n",
    "\n",
    "gMoney = 1000\n",
    "gCondition = threading.Condition()\n",
    "\n",
    "gTotalTimes = 10\n",
    "gTimes = 0\n",
    "\n",
    "class Producer(threading.Thread):\n",
    "    def run(self):\n",
    "        global gMoney\n",
    "        global gTimes\n",
    "        while True:\n",
    "            money = random.randint(100, 1000)\n",
    "            gCondition.acquire()\n",
    "            if gTimes >= gTotalTimes:\n",
    "                gCondition.release()\n",
    "                break\n",
    "            gMoney += money\n",
    "            gTimes += 1\n",
    "            print('生产者[%s]第%d次生产了%d元， 剩余%d元' % (threading.current_thread(),gTimes, money, gMoney))\n",
    "            gCondition.notify_all()\n",
    "            gCondition.release()\n",
    "            time.sleep(0.5)\n",
    "        \n",
    "    \n",
    "class Consumer(threading.Thread):\n",
    "    def run(self):\n",
    "        global gMoney \n",
    "        while True:\n",
    "            money = random.randint(100, 1000)\n",
    "            gCondition.acquire()\n",
    "            while gMoney < money:\n",
    "                print('余额不足，消费者[%s]需要消费%d元，仅剩%d' % (threading.current_thread(), money, gMoney))\n",
    "                if gTimes >= gTotalTimes:\n",
    "                    gCondition.release()\n",
    "                    return\n",
    "                gCondition.wait()\n",
    "            gMoney -= money\n",
    "            print('消费者[%s]消费%d元，剩余%d' % (threading.current_thread(), money, gMoney))\n",
    "            gCondition.release()\n",
    "            time.sleep(0.5)\n",
    "    \n",
    "def main():\n",
    "    for x in range(3):\n",
    "        t1 = Consumer(name='消费者[%s]' % x)\n",
    "        t1.start()\n",
    "        \n",
    "    for x in range(5):\n",
    "        t2 = Producer(name='生产者[%s]' % x)\n",
    "        t2.start()\n",
    "        \n",
    "if __name__ == '__main__':\n",
    "    main()"
   ]
  },
  {
   "cell_type": "markdown",
   "metadata": {},
   "source": [
    "## Queue线程安全的队列"
   ]
  },
  {
   "cell_type": "code",
   "execution_count": null,
   "metadata": {
    "collapsed": false
   },
   "outputs": [],
   "source": [
    "from queue import Queue\n",
    "\n",
    "q = Queue(4) # FIFO 先进先出\n",
    "q.put(1)\n",
    "q.put(2)\n",
    "print(q.qsize())\n",
    "print(q.empty())\n",
    "print(q.full())\n",
    "print(q.get())"
   ]
  },
  {
   "cell_type": "code",
   "execution_count": null,
   "metadata": {
    "collapsed": false
   },
   "outputs": [],
   "source": [
    "from queue import Queue\n",
    "import time\n",
    "import threading\n",
    "\n",
    "def set_value(q):\n",
    "    index = 0\n",
    "    while True:\n",
    "        q.put(index)\n",
    "        index += 1\n",
    "        time.sleep(2)\n",
    "        \n",
    "def get_value(q):\n",
    "    while True:\n",
    "        print(q.get())\n",
    "        \n",
    "def main():\n",
    "    q = Queue(4)\n",
    "    t1 = threading.Thread(target=set_value, args=(q,))\n",
    "    t2 = threading.Thread(target=get_value, args=(q,))\n",
    "    \n",
    "    t1.start()\n",
    "    t2.start()\n",
    "    \n",
    "if __name__ == '__main__':\n",
    "    main()"
   ]
  },
  {
   "cell_type": "code",
   "execution_count": null,
   "metadata": {
    "collapsed": true
   },
   "outputs": [],
   "source": []
  }
 ],
 "metadata": {
  "kernelspec": {
   "display_name": "Python 3",
   "language": "python",
   "name": "python3"
  },
  "language_info": {
   "codemirror_mode": {
    "name": "ipython",
    "version": 3
   },
   "file_extension": ".py",
   "mimetype": "text/x-python",
   "name": "python",
   "nbconvert_exporter": "python",
   "pygments_lexer": "ipython3",
   "version": "3.6.0"
  }
 },
 "nbformat": 4,
 "nbformat_minor": 2
}
