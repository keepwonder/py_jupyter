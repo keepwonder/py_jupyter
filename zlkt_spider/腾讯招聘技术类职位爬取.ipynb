{
 "cells": [
  {
   "cell_type": "markdown",
   "metadata": {},
   "source": [
    "## 腾讯招聘技术类职位爬取"
   ]
  },
  {
   "cell_type": "code",
   "execution_count": 40,
   "metadata": {
    "collapsed": false
   },
   "outputs": [
    {
     "name": "stdout",
     "output_type": "stream",
     "text": [
      "https://hr.tencent.com/position_detail.php?id=33901&keywords=python&tid=87&lid=0\n",
      "{'sharetitle': 'MIG16-MIG16-地图数据系统高级开发工程师', 'location': '北京', 'job_type': '技术类', 'numbers': '1人', 'responsibility': ['1. 参与地图数据全业务子系统的系统建设、架构设计、功能开发和优化等工作', '2. 负责地图数据业务后台的系统架构设计和模块开发， 为地图数据业务开发高性能、低延迟的数据存储、访问系统和数据流系统', '3. 负责道路数据和用户轨迹数据的挖掘体系和平台建设，为机器学习、数据方案的实施提供便捷的工程工具和系统支持； ', '4. 负责腾讯LBS数据生产平台后端的系统功能和模块研发， 为作业编辑提供高效、自动化的平台后端支持'], 'requirements': ['1. 计算机或者gis相关专业毕业，熟悉常见的数据结构和算法设计，至少会c、c++、python、java中的一种编程语言，优秀的工程能力', '2. 对网络编程、数据库编程、数据库存储优化、操作系统、常见的分布化redis、postgres/mysql有较多的经验积累和理解，参与过大型业务系统的设计开发', '3. 具备较强的业务问题理解分析能力和学习能力， 能够应用新技术、提出新想法解决业务问题', '4. 有以下条件优先：', 'a. 有微服务、缓存&数据库中间件、数据流系统等工作经验者优先', 'b. 有storm/hadoop/spark/kafka/hbase等开源框架经验优先；同时有相关机器学习学习和实践背景更佳', 'c. 具备地图数据方向的相关后台研发经验优先']}\n"
     ]
    }
   ],
   "source": [
    "import requests\n",
    "from lxml import etree\n",
    "\n",
    "def get_html(url):\n",
    "    headers = {\n",
    "        'User-Agent': 'Mozilla/5.0 (Macintosh; Intel Mac OS X 10_12_6) AppleWebKit/537.36 (KHTML, like Gecko) Chrome/64.0.3282.140 Safari/537.36'\n",
    "    }\n",
    "    res = requests.get(url, headers=headers)\n",
    "    return res\n",
    "    \n",
    "\n",
    "def get_position_link(page_url):\n",
    "    '''\n",
    "    @params: page_url:页面链接\n",
    "    @return：每个页面下的职位详情链接\n",
    "    '''\n",
    "    base_prefix = 'https://hr.tencent.com/'\n",
    "    res = get_html(page_url)\n",
    "    html = etree.HTML(res.text)\n",
    "    position_links = html.xpath('//tr[@class=\"even\" or @class=\"odd\"]//a/@href')\n",
    "    position_links = map(lambda x: base_prefix+x, position_links)\n",
    "    return position_links\n",
    "        \n",
    "def get_position_detail(detail_url):\n",
    "    position = {}\n",
    "    res = get_html(detail_url)\n",
    "    html = etree.HTML(res.text)\n",
    "    sharetitle = html.xpath('//tr[@class=\"h\"]/td/text()')[0]\n",
    "    position['sharetitle'] = sharetitle\n",
    "    location,job_type,numbers = html.xpath('//tr[contains(@class, \"bottomline\")]/td/text()')\n",
    "    position['location'] = location\n",
    "    position['job_type'] = job_type\n",
    "    position['numbers'] = numbers\n",
    "    \n",
    "    job_responsibility,job_requirements = html.xpath('//ul[@class=\"squareli\"]')\n",
    "    responsibility = job_responsibility.xpath('./li/text()')\n",
    "    requirements = job_requirements.xpath('./li/text()')\n",
    "    \n",
    "    position['responsibility'] = responsibility\n",
    "    position['requirements'] = requirements\n",
    "    print(position)\n",
    "    \n",
    "        \n",
    "if __name__ == '__main__':\n",
    "    base_url = 'https://hr.tencent.com/position.php?lid=&tid=87&keywords=python&start=%d#a'\n",
    "    for x in range(51):\n",
    "        url = base_url % (x-1)\n",
    "        position_links = get_position_link(url)\n",
    "        break\n",
    "        \n",
    "    for position_link in position_links:\n",
    "        print(position_link)\n",
    "        get_position_detail(position_link)\n",
    "        break\n",
    "    "
   ]
  },
  {
   "cell_type": "code",
   "execution_count": null,
   "metadata": {
    "collapsed": true
   },
   "outputs": [],
   "source": []
  }
 ],
 "metadata": {
  "kernelspec": {
   "display_name": "Python 3",
   "language": "python",
   "name": "python3"
  },
  "language_info": {
   "codemirror_mode": {
    "name": "ipython",
    "version": 3
   },
   "file_extension": ".py",
   "mimetype": "text/x-python",
   "name": "python",
   "nbconvert_exporter": "python",
   "pygments_lexer": "ipython3",
   "version": "3.6.0"
  }
 },
 "nbformat": 4,
 "nbformat_minor": 2
}
