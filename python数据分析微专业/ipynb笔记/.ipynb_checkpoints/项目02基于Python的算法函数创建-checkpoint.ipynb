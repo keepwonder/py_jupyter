{
 "cells": [
  {
   "cell_type": "code",
   "execution_count": null,
   "metadata": {
    "collapsed": false
   },
   "outputs": [],
   "source": [
    "'''\n",
    "【项目02】  基于Python的算法函数创建\n",
    "\n",
    "作业要求：\n",
    "根据不同题目，完成代码书写并成功运行\n",
    "\n",
    "'''"
   ]
  },
  {
   "cell_type": "code",
   "execution_count": null,
   "metadata": {
    "collapsed": false
   },
   "outputs": [],
   "source": [
    "# 题目1：有1、2、3、4个数字，能组成多少个互不相同且无重复数字的两位数？都是多少？\n",
    "# 该题目不用创建函数\n",
    "# num = 0\n",
    "# for x in [1,2,3,4]:\n",
    "#     for y in [1,2,3,4]:\n",
    "#         if x != y:\n",
    "#             num += 1\n",
    "#             print(10 * x + y, end=' ')\n",
    "# print('共有%s个' % num)\n",
    "\n",
    "num_list = [10 * x + y for x in range(1,5) for y in range(1,5) if x != y]\n",
    "print('共有%d个, 分别是：' % len(num_list))\n",
    "for num in num_list:\n",
    "    print(num, end=' ')\n",
    "            "
   ]
  },
  {
   "cell_type": "code",
   "execution_count": 5,
   "metadata": {
    "collapsed": false
   },
   "outputs": [
    {
     "name": "stdout",
     "output_type": "stream",
     "text": [
      "please enter num1:34\n",
      "please enter num2:10\n",
      "please enter num3:27\n",
      "num: [10, 27, 34]\n"
     ]
    }
   ],
   "source": [
    "# 题目2：输入三个整数x,y,z，请把这三个数由小到大输出，可调用input()。（需要加判断：判断输入数据是否为数字）\n",
    "# 提示：判断是否为数字：.isdigit()\n",
    "# 该题目需要创建函数\n",
    "\n",
    "# a = input('please enter first num:')\n",
    "# b = input('please enter second num:')\n",
    "# c = input('please enter third num:')\n",
    "# l = []\n",
    "# if a.isdigit() and b.isdigit() and c.isdigit:\n",
    "#     a,b,c = int(a), int(b), int(c)\n",
    "#     l.extend([a,b,c])\n",
    "#     l.sort(reverse=True)\n",
    "#     print(l)\n",
    "\n",
    "num = []\n",
    "for x in range(3):\n",
    "    num.append(int(input('please enter num{}:'.format(x+1))))\n",
    "\n",
    "num.sort()    \n",
    "print('num:',num)\n",
    "    \n",
    "    \n"
   ]
  },
  {
   "cell_type": "code",
   "execution_count": null,
   "metadata": {
    "collapsed": false
   },
   "outputs": [],
   "source": [
    "# 题目3：输入一行字符，分别统计出其中英文字母、空格、数字和其它字符的个数。\n",
    "# 提示：利用while语句,条件为输入的字符不为'\\n'.\n",
    "# 该题目不需要创建函数\n",
    "\n",
    "str = input('please enter anything you like:')\n",
    "for ch in str:\n",
    "    \n"
   ]
  },
  {
   "cell_type": "code",
   "execution_count": null,
   "metadata": {
    "collapsed": false
   },
   "outputs": [],
   "source": [
    "# 题目4：猴子吃桃问题\n",
    "# 猴子第一天摘下若干个桃子，当即吃了一半，还不瘾，又多吃了一个,\n",
    "# 第二天早上又将剩下的桃子吃掉一半，又多吃了一个。\n",
    "# 以后每天早上都吃了前一天剩下的一半零一个。到第10天早上想再吃时，见只剩下一个桃子了。求第一天共摘了多少?\n",
    "# 提示：采取逆向思维的方法，从后往前推断。\n",
    "# 该题目不需要创建函数\n",
    "\n",
    "sum = 1\n",
    "index = 10\n",
    "for x in range(9):\n",
    "    index -= 1\n",
    "    sum = (sum + 1) * 2\n",
    "    print('第{}天吃之前有{}个桃子'.format(index, sum))\n",
    "print('第一天一共摘了%d个桃子'% sum)\n",
    "\n",
    "\n",
    "# n = 1524\n",
    "# index = 0\n",
    "# while True:\n",
    "#     index += 1\n",
    "#     n = n - n // 2 - 1\n",
    "#     print('第{}天还剩：{}'.format(index, n))\n",
    "#     if n == 1:\n",
    "# #         print(index)\n",
    "#         break"
   ]
  },
  {
   "cell_type": "code",
   "execution_count": null,
   "metadata": {
    "collapsed": false
   },
   "outputs": [],
   "source": [
    "# 题目5：猜数字问题，要求如下：\n",
    "# ① 随机生成一个整数\n",
    "# ② 猜一个数字并输入\n",
    "# ③ 判断是大是小，直到猜正确\n",
    "# ④ 判断时间\n",
    "# 提示：需要用time模块、random模块\n",
    "# 该题目不需要创建函数\n",
    "\n",
    "import random\n",
    "import time\n",
    "\n",
    "num = random.randint(10, 100)\n",
    "# print(num)\n",
    "t_begin = time.time()\n",
    "# print(t_begin)\n",
    "while True:\n",
    "    guess_num = int(input('please enter an int number:'))\n",
    "    if guess_num == num:\n",
    "        print('Bingo! The number is %d' % num)\n",
    "        t_end = time.time()\n",
    "#         print(t_end)\n",
    "        print('congratulation！You took %.2fs.' % (t_end - t_begin))\n",
    "        break\n",
    "    elif guess_num > num:\n",
    "        print('The number is smaller!')\n",
    "    else:\n",
    "        print('The number is greater!')"
   ]
  }
 ],
 "metadata": {
  "anaconda-cloud": {},
  "kernelspec": {
   "display_name": "Python 3",
   "language": "python",
   "name": "python3"
  },
  "language_info": {
   "codemirror_mode": {
    "name": "ipython",
    "version": 3
   },
   "file_extension": ".py",
   "mimetype": "text/x-python",
   "name": "python",
   "nbconvert_exporter": "python",
   "pygments_lexer": "ipython3",
   "version": "3.6.0"
  }
 },
 "nbformat": 4,
 "nbformat_minor": 1
}
