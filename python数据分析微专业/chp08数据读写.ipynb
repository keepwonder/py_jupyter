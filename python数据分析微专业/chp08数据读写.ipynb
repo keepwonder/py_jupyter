{
 "cells": [
  {
   "cell_type": "code",
   "execution_count": null,
   "metadata": {
    "collapsed": false,
    "scrolled": true
   },
   "outputs": [],
   "source": [
    "import this"
   ]
  },
  {
   "cell_type": "code",
   "execution_count": null,
   "metadata": {
    "collapsed": false,
    "scrolled": true
   },
   "outputs": [],
   "source": [
    "import os\n",
    "print(os.name)\n",
    "print(os.getcwd())\n",
    "print(os.listdir())\n",
    "os.chdir('..')\n",
    "print(os.getcwd())\n",
    "print(os.path.split('/Users/jockie/programs/jupter_file/python数据分析微专业'))\n",
    "print(os.path.exists(''))"
   ]
  },
  {
   "cell_type": "code",
   "execution_count": null,
   "metadata": {
    "collapsed": false,
    "scrolled": true
   },
   "outputs": [],
   "source": [
    "f = open('import_this.txt') # 读取文件 open()\n",
    "print(type(f))\n",
    "print(f)\n",
    "print(f.read())\n",
    "f.close()"
   ]
  },
  {
   "cell_type": "markdown",
   "metadata": {},
   "source": [
    "### 小作业1"
   ]
  },
  {
   "cell_type": "code",
   "execution_count": 10,
   "metadata": {
    "collapsed": false,
    "scrolled": true
   },
   "outputs": [
    {
     "name": "stdout",
     "output_type": "stream",
     "text": [
      "[{'name': '南京UME国际影城(1912店)', 'longtitue': '118.800812', 'latitue': '32.051613', 'address': '南京市玄武区杨将军巷9号曼度文化广场3楼(1912对面)'}, {'name': '南京新街口万达广场店', 'longtitue': '118.792697', 'latitue': '32.044542', 'address': '南京市秦淮区洪武北路88号新街口万达广场四楼'}, {'name': '南京艾米1895影院', 'longtitue': '118.789403', 'latitue': '32.046815', 'address': '南京市秦淮区汉中路1号金融国际中心5楼(近地铁1号线新街口站)'}, {'name': '幸福蓝海国际影城(河西店)', 'longtitue': '118.738669', 'latitue': '32.012957', 'address': '南京市建邺区江东中路237号雨润国际广场中央商场5楼'}, {'name': '中影国际影城南京建邺河西店', 'longtitue': '118.731741', 'latitue': '32.00054', 'address': '南京市建邺区江东中路341号中央公园B1楼(家乐福入口旁)'}, {'name': '江苏金陵工人影城', 'longtitue': '118.794095', 'latitue': '32.046515', 'address': '南京市秦淮区新街口洪武路26号'}, {'name': '中影电影城', 'longtitue': '118.810623', 'latitue': '32.032344', 'address': '南京市秦淮区大光路142号际华国际广场(金陵尚府水晶街旁)'}, {'name': '大华大戏院', 'longtitue': '118.790797', 'latitue': '32.045178', 'address': '南京市秦淮区新街口中山南路67号(近中央商场)'}, {'name': '新街口国际影城（德基广场IMAX店）', 'longtitue': '118.790915', 'latitue': '32.049183', 'address': '南京市玄武区中山路18号德基广场七层(20'}, {'name': '中影国际影城南京仙林金鹰店', 'longtitue': '118.933773', 'latitue': '32.108941', 'address': '南京市栖霞区仙林大学城学海路1号金鹰奥莱城Ｃ馆2楼'}]\n",
      "\n",
      "共转换了129条数据\n"
     ]
    }
   ],
   "source": [
    "# import os \n",
    "# print(os.getcwd())\n",
    "theater_info = []\n",
    "n = 0\n",
    "with open('theater.txt') as f:\n",
    "    for info in f.readlines():\n",
    "        n += 1\n",
    "        info = info.split(':')\n",
    "        name = info[0]\n",
    "        detail = info[1].split(',')\n",
    "        longtitue = detail[0]\n",
    "        latitue = detail[1]\n",
    "        address = detail[2].strip()\n",
    "        \n",
    "        data = [['name', name],['longtitue',longtitue],['latitue', latitue],['address', address]]\n",
    "        theater_info.append(dict(data))\n",
    "        \n",
    "print(theater_info[:10])\n",
    "print('\\n共转换了%i条数据' % n)\n",
    "                "
   ]
  },
  {
   "cell_type": "markdown",
   "metadata": {},
   "source": [
    "### 小作业2"
   ]
  },
  {
   "cell_type": "code",
   "execution_count": 26,
   "metadata": {
    "collapsed": false
   },
   "outputs": [
    {
     "name": "stdout",
     "output_type": "stream",
     "text": [
      "1,a\n",
      "2,b\n",
      "3,c\n",
      "4,d\n",
      "5,e\n",
      "6,f\n",
      "7,g\n",
      "8,h\n",
      "9,i\n",
      "10,j\n"
     ]
    }
   ],
   "source": [
    "'''\n",
    "两个列表[1~10],[a~j]变成\n",
    "1,a\n",
    "2,b\n",
    "...\n",
    "'''\n",
    "\n",
    "a = list(range(1,11))\n",
    "b = ['a', 'b', 'c', 'd', 'e', 'f', 'g', 'h', 'i', 'j']\n",
    "# print(a)\n",
    "# print(b)\n",
    "\n",
    "# for i in range(len(b)):\n",
    "#     b[i] = (b[i]+'\\n')\n",
    "# print(b)    \n",
    "\n",
    "with open('combine_two_list.txt', 'w') as f:\n",
    "    for i in range(10):\n",
    "        f.writelines(str(a[i])+','+b[i]+'\\n')\n",
    "        \n",
    "with open('combine_two_list.txt') as f:\n",
    "    for line in f.readlines():\n",
    "        print(line.strip())"
   ]
  },
  {
   "cell_type": "code",
   "execution_count": null,
   "metadata": {
    "collapsed": true
   },
   "outputs": [],
   "source": []
  }
 ],
 "metadata": {
  "kernelspec": {
   "display_name": "Python 3",
   "language": "python",
   "name": "python3"
  },
  "language_info": {
   "codemirror_mode": {
    "name": "ipython",
    "version": 3
   },
   "file_extension": ".py",
   "mimetype": "text/x-python",
   "name": "python",
   "nbconvert_exporter": "python",
   "pygments_lexer": "ipython3",
   "version": "3.6.0"
  }
 },
 "nbformat": 4,
 "nbformat_minor": 2
}
