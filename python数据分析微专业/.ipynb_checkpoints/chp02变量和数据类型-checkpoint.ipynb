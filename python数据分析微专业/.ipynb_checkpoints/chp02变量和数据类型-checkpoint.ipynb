{
 "cells": [
  {
   "cell_type": "code",
   "execution_count": 2,
   "metadata": {
    "collapsed": false
   },
   "outputs": [
    {
     "name": "stdout",
     "output_type": "stream",
     "text": [
      "10 10.0\n",
      "<class 'int'> <class 'float'>\n"
     ]
    }
   ],
   "source": [
    "# number类型：整型和浮点型\n",
    "a = 10\n",
    "b = 10.0\n",
    "print(a,b)\n",
    "print(type(a),type(b))"
   ]
  },
  {
   "cell_type": "code",
   "execution_count": 4,
   "metadata": {
    "collapsed": false
   },
   "outputs": [
    {
     "name": "stdout",
     "output_type": "stream",
     "text": [
      "hello world hello python \n",
      "    hello flask,\n",
      "    hello django\n",
      "\n",
      "<class 'str'> <class 'str'> <class 'str'>\n"
     ]
    }
   ],
   "source": [
    "# string：字符串\n",
    "s1 = 'hello world'\n",
    "s2 = \"hello python\"\n",
    "s3 = '''\n",
    "    hello flask,\n",
    "    hello django\n",
    "'''\n",
    "print(s1,s2,s3)\n",
    "print(type(s1), type(s2),type(s3))"
   ]
  },
  {
   "cell_type": "code",
   "execution_count": 7,
   "metadata": {
    "collapsed": false
   },
   "outputs": [
    {
     "name": "stdout",
     "output_type": "stream",
     "text": [
      "True\n",
      "False\n",
      "True\n"
     ]
    }
   ],
   "source": [
    "# bool:布尔型 True/False\n",
    "b = 1\n",
    "print(bool(b))\n",
    "print(bool(0))\n",
    "print(bool(-1))"
   ]
  },
  {
   "cell_type": "code",
   "execution_count": 8,
   "metadata": {
    "collapsed": false
   },
   "outputs": [
    {
     "name": "stdout",
     "output_type": "stream",
     "text": [
      "[1, 2, 3, 4] <class 'list'>\n"
     ]
    }
   ],
   "source": [
    "# list: 列表\n",
    "l = [1,2,3,4]\n",
    "print(l,type(l))"
   ]
  },
  {
   "cell_type": "code",
   "execution_count": 9,
   "metadata": {
    "collapsed": false
   },
   "outputs": [
    {
     "name": "stdout",
     "output_type": "stream",
     "text": [
      "(1, 2, 3) <class 'tuple'>\n"
     ]
    }
   ],
   "source": [
    "# tuple: 元组\n",
    "t = (1,2,3)\n",
    "print(t, type(t))"
   ]
  },
  {
   "cell_type": "code",
   "execution_count": 10,
   "metadata": {
    "collapsed": false
   },
   "outputs": [
    {
     "name": "stdout",
     "output_type": "stream",
     "text": [
      "{'a': 1, 'b': 2, 'c': 3} <class 'dict'>\n"
     ]
    }
   ],
   "source": [
    "# dict: 字典\n",
    "d = {'a':1,'b':2,'c':3}\n",
    "print(d, type(d))"
   ]
  },
  {
   "cell_type": "code",
   "execution_count": 11,
   "metadata": {
    "collapsed": false
   },
   "outputs": [
    {
     "name": "stdout",
     "output_type": "stream",
     "text": [
      "10\n",
      "10.0\n",
      "10\n"
     ]
    }
   ],
   "source": [
    "# 数据类型转换 int/float/str/list/tuple/dict\n",
    "a = 10\n",
    "print(a)\n",
    "print(float(a))\n",
    "print(str(a))"
   ]
  },
  {
   "cell_type": "code",
   "execution_count": 15,
   "metadata": {
    "collapsed": false
   },
   "outputs": [
    {
     "name": "stdout",
     "output_type": "stream",
     "text": [
      "1\n"
     ]
    }
   ],
   "source": [
    "# 认识变量，变量赋值\n",
    "a = 1\n",
    "print(a)"
   ]
  },
  {
   "cell_type": "code",
   "execution_count": null,
   "metadata": {
    "collapsed": true
   },
   "outputs": [],
   "source": [
    "# 算术运算符 +、-、*、/、%、//、**、\n",
    "# 比较运算符 >、<、>=、<=、==、!=、\n",
    "# 逻辑运算符 and、not、or\n",
    "# 成员运算符 in、not in\n"
   ]
  }
 ],
 "metadata": {
  "kernelspec": {
   "display_name": "Python 3",
   "language": "python",
   "name": "python3"
  },
  "language_info": {
   "codemirror_mode": {
    "name": "ipython",
    "version": 3
   },
   "file_extension": ".py",
   "mimetype": "text/x-python",
   "name": "python",
   "nbconvert_exporter": "python",
   "pygments_lexer": "ipython3",
   "version": "3.6.0"
  }
 },
 "nbformat": 4,
 "nbformat_minor": 2
}
